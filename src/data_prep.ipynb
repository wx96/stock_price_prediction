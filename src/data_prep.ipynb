{
 "metadata": {
  "language_info": {
   "codemirror_mode": {
    "name": "ipython",
    "version": 3
   },
   "file_extension": ".py",
   "mimetype": "text/x-python",
   "name": "python",
   "nbconvert_exporter": "python",
   "pygments_lexer": "ipython3",
   "version": "3.7.3-final"
  },
  "orig_nbformat": 2,
  "kernelspec": {
   "name": "python3",
   "display_name": "Python 3.7.3 64-bit (conda)",
   "metadata": {
    "interpreter": {
     "hash": "12d97fcee38ab8920190a90bce14ec7ccb9df672937f2d1454d10b81de6741b2"
    }
   }
  }
 },
 "nbformat": 4,
 "nbformat_minor": 2,
 "cells": [
  {
   "cell_type": "code",
   "execution_count": 47,
   "metadata": {},
   "outputs": [],
   "source": [
    "import pandas as pd\n",
    "import requests"
   ]
  },
  {
   "cell_type": "code",
   "execution_count": 48,
   "metadata": {},
   "outputs": [],
   "source": [
    "selected_ticker = 'XOM'"
   ]
  },
  {
   "cell_type": "code",
   "execution_count": 49,
   "metadata": {},
   "outputs": [
    {
     "output_type": "stream",
     "name": "stdout",
     "text": [
      "(1520, 1)\n"
     ]
    },
    {
     "output_type": "execute_result",
     "data": {
      "text/plain": [
       "        Date\n",
       "0 2017-01-01\n",
       "1 2017-01-02\n",
       "2 2017-01-03\n",
       "3 2017-01-04\n",
       "4 2017-01-05"
      ],
      "text/html": "<div>\n<style scoped>\n    .dataframe tbody tr th:only-of-type {\n        vertical-align: middle;\n    }\n\n    .dataframe tbody tr th {\n        vertical-align: top;\n    }\n\n    .dataframe thead th {\n        text-align: right;\n    }\n</style>\n<table border=\"1\" class=\"dataframe\">\n  <thead>\n    <tr style=\"text-align: right;\">\n      <th></th>\n      <th>Date</th>\n    </tr>\n  </thead>\n  <tbody>\n    <tr>\n      <th>0</th>\n      <td>2017-01-01</td>\n    </tr>\n    <tr>\n      <th>1</th>\n      <td>2017-01-02</td>\n    </tr>\n    <tr>\n      <th>2</th>\n      <td>2017-01-03</td>\n    </tr>\n    <tr>\n      <th>3</th>\n      <td>2017-01-04</td>\n    </tr>\n    <tr>\n      <th>4</th>\n      <td>2017-01-05</td>\n    </tr>\n  </tbody>\n</table>\n</div>"
     },
     "metadata": {},
     "execution_count": 49
    }
   ],
   "source": [
    "data = pd.DataFrame(pd.date_range(start='2017-01-01', end='2021-02-28', closed=None), columns=['Date'])\n",
    "print(data.shape)\n",
    "data.head(5)"
   ]
  },
  {
   "cell_type": "code",
   "execution_count": 59,
   "metadata": {},
   "outputs": [
    {
     "output_type": "stream",
     "name": "stdout",
     "text": [
      "(80489, 16)\n"
     ]
    },
    {
     "output_type": "display_data",
     "data": {
      "text/plain": "                   Sub-Sector Super Region            Sector Stock Attribute  \\\n0  GLOBAL STOCK EXCHANGE DATA  GLOBAL DATA  FINANCIAL MARKET   CLOSING PRICE   \n1  GLOBAL STOCK EXCHANGE DATA  GLOBAL DATA  FINANCIAL MARKET   CLOSING PRICE   \n\n  Ticker Currency Time Level            Data Provider        Source  \\\n0    VLO      USD      DAILY  NEW YORK STOCK EXCHANGE  WORLDDATA.AI   \n1    VLO      USD      DAILY  NEW YORK STOCK EXCHANGE  WORLDDATA.AI   \n\n                           Stock Exchange                 Stock Name  \\\n0  NEW YORK STOCK EXCHANGE - STOCK PRICES  VALERO ENERGY CORPORATION   \n1  NEW YORK STOCK EXCHANGE - STOCK PRICES  VALERO ENERGY CORPORATION   \n\n           Location Super Region.1  Value Date Value Period Value  \n0  AMERICA-NEW_YORK    GLOBAL DATA  79.03 2021-03-05            d  \n1  AMERICA-NEW_YORK    GLOBAL DATA  76.37 2021-03-04            d  ",
      "text/html": "<div>\n<style scoped>\n    .dataframe tbody tr th:only-of-type {\n        vertical-align: middle;\n    }\n\n    .dataframe tbody tr th {\n        vertical-align: top;\n    }\n\n    .dataframe thead th {\n        text-align: right;\n    }\n</style>\n<table border=\"1\" class=\"dataframe\">\n  <thead>\n    <tr style=\"text-align: right;\">\n      <th></th>\n      <th>Sub-Sector</th>\n      <th>Super Region</th>\n      <th>Sector</th>\n      <th>Stock Attribute</th>\n      <th>Ticker</th>\n      <th>Currency</th>\n      <th>Time Level</th>\n      <th>Data Provider</th>\n      <th>Source</th>\n      <th>Stock Exchange</th>\n      <th>Stock Name</th>\n      <th>Location</th>\n      <th>Super Region.1</th>\n      <th>Value</th>\n      <th>Date Value</th>\n      <th>Period Value</th>\n    </tr>\n  </thead>\n  <tbody>\n    <tr>\n      <th>0</th>\n      <td>GLOBAL STOCK EXCHANGE DATA</td>\n      <td>GLOBAL DATA</td>\n      <td>FINANCIAL MARKET</td>\n      <td>CLOSING PRICE</td>\n      <td>VLO</td>\n      <td>USD</td>\n      <td>DAILY</td>\n      <td>NEW YORK STOCK EXCHANGE</td>\n      <td>WORLDDATA.AI</td>\n      <td>NEW YORK STOCK EXCHANGE - STOCK PRICES</td>\n      <td>VALERO ENERGY CORPORATION</td>\n      <td>AMERICA-NEW_YORK</td>\n      <td>GLOBAL DATA</td>\n      <td>79.03</td>\n      <td>2021-03-05</td>\n      <td>d</td>\n    </tr>\n    <tr>\n      <th>1</th>\n      <td>GLOBAL STOCK EXCHANGE DATA</td>\n      <td>GLOBAL DATA</td>\n      <td>FINANCIAL MARKET</td>\n      <td>CLOSING PRICE</td>\n      <td>VLO</td>\n      <td>USD</td>\n      <td>DAILY</td>\n      <td>NEW YORK STOCK EXCHANGE</td>\n      <td>WORLDDATA.AI</td>\n      <td>NEW YORK STOCK EXCHANGE - STOCK PRICES</td>\n      <td>VALERO ENERGY CORPORATION</td>\n      <td>AMERICA-NEW_YORK</td>\n      <td>GLOBAL DATA</td>\n      <td>76.37</td>\n      <td>2021-03-04</td>\n      <td>d</td>\n    </tr>\n  </tbody>\n</table>\n</div>"
     },
     "metadata": {}
    },
    {
     "output_type": "execute_result",
     "data": {
      "text/plain": [
       "           Date Date Value  stock_closing_usd\n",
       "0    2017-01-01        NaT                NaN\n",
       "1    2017-01-02        NaT                NaN\n",
       "2    2017-01-03 2017-01-03              90.89\n",
       "3    2017-01-04 2017-01-04              89.89\n",
       "4    2017-01-05 2017-01-05              88.55\n",
       "...         ...        ...                ...\n",
       "1515 2021-02-24 2021-02-24              56.70\n",
       "1516 2021-02-25 2021-02-25              55.76\n",
       "1517 2021-02-26 2021-02-26              54.37\n",
       "1518 2021-02-27        NaT                NaN\n",
       "1519 2021-02-28        NaT                NaN\n",
       "\n",
       "[1520 rows x 3 columns]"
      ],
      "text/html": "<div>\n<style scoped>\n    .dataframe tbody tr th:only-of-type {\n        vertical-align: middle;\n    }\n\n    .dataframe tbody tr th {\n        vertical-align: top;\n    }\n\n    .dataframe thead th {\n        text-align: right;\n    }\n</style>\n<table border=\"1\" class=\"dataframe\">\n  <thead>\n    <tr style=\"text-align: right;\">\n      <th></th>\n      <th>Date</th>\n      <th>Date Value</th>\n      <th>stock_closing_usd</th>\n    </tr>\n  </thead>\n  <tbody>\n    <tr>\n      <th>0</th>\n      <td>2017-01-01</td>\n      <td>NaT</td>\n      <td>NaN</td>\n    </tr>\n    <tr>\n      <th>1</th>\n      <td>2017-01-02</td>\n      <td>NaT</td>\n      <td>NaN</td>\n    </tr>\n    <tr>\n      <th>2</th>\n      <td>2017-01-03</td>\n      <td>2017-01-03</td>\n      <td>90.89</td>\n    </tr>\n    <tr>\n      <th>3</th>\n      <td>2017-01-04</td>\n      <td>2017-01-04</td>\n      <td>89.89</td>\n    </tr>\n    <tr>\n      <th>4</th>\n      <td>2017-01-05</td>\n      <td>2017-01-05</td>\n      <td>88.55</td>\n    </tr>\n    <tr>\n      <th>...</th>\n      <td>...</td>\n      <td>...</td>\n      <td>...</td>\n    </tr>\n    <tr>\n      <th>1515</th>\n      <td>2021-02-24</td>\n      <td>2021-02-24</td>\n      <td>56.70</td>\n    </tr>\n    <tr>\n      <th>1516</th>\n      <td>2021-02-25</td>\n      <td>2021-02-25</td>\n      <td>55.76</td>\n    </tr>\n    <tr>\n      <th>1517</th>\n      <td>2021-02-26</td>\n      <td>2021-02-26</td>\n      <td>54.37</td>\n    </tr>\n    <tr>\n      <th>1518</th>\n      <td>2021-02-27</td>\n      <td>NaT</td>\n      <td>NaN</td>\n    </tr>\n    <tr>\n      <th>1519</th>\n      <td>2021-02-28</td>\n      <td>NaT</td>\n      <td>NaN</td>\n    </tr>\n  </tbody>\n</table>\n<p>1520 rows × 3 columns</p>\n</div>"
     },
     "metadata": {},
     "execution_count": 59
    }
   ],
   "source": [
    "stock_nyse = pd.read_csv('../full_dataset/stock_closing_nyse.csv', parse_dates=['Date Value'])\n",
    "print(stock_nyse.shape)\n",
    "display(stock_nyse.head(2))\n",
    "# display(stock_nyse.describe())\n",
    "\n",
    "stock = stock_nyse[stock_nyse.Ticker == selected_ticker][['Date Value','Value']].rename(columns={'Value':'stock_closing_usd'})\n",
    "\n",
    "# merge data\n",
    "data = pd.merge(data, stock, left_on = ['Date'], right_on = ['Date Value'], how='left')\n",
    "data"
   ]
  },
  {
   "cell_type": "code",
   "execution_count": 39,
   "metadata": {},
   "outputs": [
    {
     "output_type": "stream",
     "name": "stdout",
     "text": [
      "(1951320, 15)\n"
     ]
    },
    {
     "output_type": "display_data",
     "data": {
      "text/plain": "                   Sub-Sector Super Region          Sector Frequency  \\\n1951319  APPLE MOBILITY INDEX  GLOBAL DATA  TRANSPORTATION     DAILY   \n1258423  APPLE MOBILITY INDEX  GLOBAL DATA  TRANSPORTATION     DAILY   \n1258842  APPLE MOBILITY INDEX  GLOBAL DATA  TRANSPORTATION     DAILY   \n1259261  APPLE MOBILITY INDEX  GLOBAL DATA  TRANSPORTATION     DAILY   \n1259680  APPLE MOBILITY INDEX  GLOBAL DATA  TRANSPORTATION     DAILY   \n\n                 Region        Country Sub Region   Unit Geography Type  \\\n1951319         TORONTO         CANADA    ONTARIO  INDEX           CITY   \n1258423  KENOSHA COUNTY  UNITED STATES  WISCONSIN  INDEX         COUNTY   \n1258842     KENT COUNTY  UNITED STATES   MARYLAND  INDEX         COUNTY   \n1259261     KENT COUNTY  UNITED STATES   MICHIGAN  INDEX         COUNTY   \n1259680    BROWN COUNTY  UNITED STATES       OHIO  INDEX         COUNTY   \n\n        Transportation Type       Source Super Region.1  Value  Date Value  \\\n1951319             WALKING  APPLE, INC.    GLOBAL DATA  100.0  2020-01-13   \n1258423             DRIVING  APPLE, INC.    GLOBAL DATA  100.0  2020-01-13   \n1258842             DRIVING  APPLE, INC.    GLOBAL DATA  100.0  2020-01-13   \n1259261             DRIVING  APPLE, INC.    GLOBAL DATA  100.0  2020-01-13   \n1259680             DRIVING  APPLE, INC.    GLOBAL DATA  100.0  2020-01-13   \n\n        Period Value  \n1951319            d  \n1258423            d  \n1258842            d  \n1259261            d  \n1259680            d  ",
      "text/html": "<div>\n<style scoped>\n    .dataframe tbody tr th:only-of-type {\n        vertical-align: middle;\n    }\n\n    .dataframe tbody tr th {\n        vertical-align: top;\n    }\n\n    .dataframe thead th {\n        text-align: right;\n    }\n</style>\n<table border=\"1\" class=\"dataframe\">\n  <thead>\n    <tr style=\"text-align: right;\">\n      <th></th>\n      <th>Sub-Sector</th>\n      <th>Super Region</th>\n      <th>Sector</th>\n      <th>Frequency</th>\n      <th>Region</th>\n      <th>Country</th>\n      <th>Sub Region</th>\n      <th>Unit</th>\n      <th>Geography Type</th>\n      <th>Transportation Type</th>\n      <th>Source</th>\n      <th>Super Region.1</th>\n      <th>Value</th>\n      <th>Date Value</th>\n      <th>Period Value</th>\n    </tr>\n  </thead>\n  <tbody>\n    <tr>\n      <th>1951319</th>\n      <td>APPLE MOBILITY INDEX</td>\n      <td>GLOBAL DATA</td>\n      <td>TRANSPORTATION</td>\n      <td>DAILY</td>\n      <td>TORONTO</td>\n      <td>CANADA</td>\n      <td>ONTARIO</td>\n      <td>INDEX</td>\n      <td>CITY</td>\n      <td>WALKING</td>\n      <td>APPLE, INC.</td>\n      <td>GLOBAL DATA</td>\n      <td>100.0</td>\n      <td>2020-01-13</td>\n      <td>d</td>\n    </tr>\n    <tr>\n      <th>1258423</th>\n      <td>APPLE MOBILITY INDEX</td>\n      <td>GLOBAL DATA</td>\n      <td>TRANSPORTATION</td>\n      <td>DAILY</td>\n      <td>KENOSHA COUNTY</td>\n      <td>UNITED STATES</td>\n      <td>WISCONSIN</td>\n      <td>INDEX</td>\n      <td>COUNTY</td>\n      <td>DRIVING</td>\n      <td>APPLE, INC.</td>\n      <td>GLOBAL DATA</td>\n      <td>100.0</td>\n      <td>2020-01-13</td>\n      <td>d</td>\n    </tr>\n    <tr>\n      <th>1258842</th>\n      <td>APPLE MOBILITY INDEX</td>\n      <td>GLOBAL DATA</td>\n      <td>TRANSPORTATION</td>\n      <td>DAILY</td>\n      <td>KENT COUNTY</td>\n      <td>UNITED STATES</td>\n      <td>MARYLAND</td>\n      <td>INDEX</td>\n      <td>COUNTY</td>\n      <td>DRIVING</td>\n      <td>APPLE, INC.</td>\n      <td>GLOBAL DATA</td>\n      <td>100.0</td>\n      <td>2020-01-13</td>\n      <td>d</td>\n    </tr>\n    <tr>\n      <th>1259261</th>\n      <td>APPLE MOBILITY INDEX</td>\n      <td>GLOBAL DATA</td>\n      <td>TRANSPORTATION</td>\n      <td>DAILY</td>\n      <td>KENT COUNTY</td>\n      <td>UNITED STATES</td>\n      <td>MICHIGAN</td>\n      <td>INDEX</td>\n      <td>COUNTY</td>\n      <td>DRIVING</td>\n      <td>APPLE, INC.</td>\n      <td>GLOBAL DATA</td>\n      <td>100.0</td>\n      <td>2020-01-13</td>\n      <td>d</td>\n    </tr>\n    <tr>\n      <th>1259680</th>\n      <td>APPLE MOBILITY INDEX</td>\n      <td>GLOBAL DATA</td>\n      <td>TRANSPORTATION</td>\n      <td>DAILY</td>\n      <td>BROWN COUNTY</td>\n      <td>UNITED STATES</td>\n      <td>OHIO</td>\n      <td>INDEX</td>\n      <td>COUNTY</td>\n      <td>DRIVING</td>\n      <td>APPLE, INC.</td>\n      <td>GLOBAL DATA</td>\n      <td>100.0</td>\n      <td>2020-01-13</td>\n      <td>d</td>\n    </tr>\n  </tbody>\n</table>\n</div>"
     },
     "metadata": {}
    },
    {
     "output_type": "execute_result",
     "data": {
      "text/plain": [
       "(4652, 15)"
      ]
     },
     "metadata": {},
     "execution_count": 39
    }
   ],
   "source": [
    "mobility_apple = pd.read_csv('../full_dataset/mobility_apple.csv').drop_duplicates()\n",
    "print(mobility_apple.shape)\n",
    "display(mobility_apple.sort_values('Date Value').head(5))\n",
    "mobility_apple[mobility_apple['Date Value'] =='2020-01-13'].shape"
   ]
  },
  {
   "cell_type": "code",
   "execution_count": 40,
   "metadata": {},
   "outputs": [
    {
     "output_type": "error",
     "ename": "KeyError",
     "evalue": "\"['Date'] not in index\"",
     "traceback": [
      "\u001b[1;31m---------------------------------------------------------------------------\u001b[0m",
      "\u001b[1;31mKeyError\u001b[0m                                  Traceback (most recent call last)",
      "\u001b[1;32m<ipython-input-40-a0207bb21cbe>\u001b[0m in \u001b[0;36m<module>\u001b[1;34m\u001b[0m\n\u001b[1;32m----> 1\u001b[1;33m \u001b[0mstock\u001b[0m \u001b[1;33m=\u001b[0m \u001b[0mstock_nyse\u001b[0m\u001b[1;33m[\u001b[0m\u001b[0mstock_nyse\u001b[0m\u001b[1;33m.\u001b[0m\u001b[0mTicker\u001b[0m \u001b[1;33m==\u001b[0m \u001b[0mselected_ticker\u001b[0m\u001b[1;33m]\u001b[0m\u001b[1;33m[\u001b[0m\u001b[1;33m[\u001b[0m\u001b[1;34m'Date'\u001b[0m\u001b[1;33m,\u001b[0m\u001b[1;34m'Value'\u001b[0m\u001b[1;33m]\u001b[0m\u001b[1;33m]\u001b[0m\u001b[1;33m.\u001b[0m\u001b[0mrename\u001b[0m\u001b[1;33m(\u001b[0m\u001b[0mcolumns\u001b[0m\u001b[1;33m=\u001b[0m\u001b[1;33m{\u001b[0m\u001b[1;34m'Value'\u001b[0m\u001b[1;33m:\u001b[0m\u001b[1;34m'stock_closing_usd'\u001b[0m\u001b[1;33m}\u001b[0m\u001b[1;33m)\u001b[0m\u001b[1;33m\u001b[0m\u001b[1;33m\u001b[0m\u001b[0m\n\u001b[0m\u001b[0;32m      2\u001b[0m \u001b[0mnews_sentiment\u001b[0m \u001b[1;33m=\u001b[0m \u001b[0mnews_sentiment\u001b[0m\u001b[1;33m[\u001b[0m\u001b[1;33m[\u001b[0m\u001b[1;34m'DateTime'\u001b[0m\u001b[1;33m,\u001b[0m\u001b[1;34m'Daily News Sentiment'\u001b[0m\u001b[1;33m]\u001b[0m\u001b[1;33m]\u001b[0m\u001b[1;33m\u001b[0m\u001b[1;33m\u001b[0m\u001b[0m\n\u001b[0;32m      3\u001b[0m \u001b[1;33m\u001b[0m\u001b[0m\n\u001b[0;32m      4\u001b[0m \u001b[0mdata\u001b[0m \u001b[1;33m=\u001b[0m \u001b[0mpd\u001b[0m\u001b[1;33m.\u001b[0m\u001b[0mmerge\u001b[0m\u001b[1;33m(\u001b[0m\u001b[0mdata\u001b[0m\u001b[1;33m,\u001b[0m \u001b[0mstock\u001b[0m\u001b[1;33m,\u001b[0m \u001b[0mleft_on\u001b[0m \u001b[1;33m=\u001b[0m \u001b[1;33m[\u001b[0m\u001b[1;34m'Date'\u001b[0m\u001b[1;33m]\u001b[0m\u001b[1;33m,\u001b[0m \u001b[0mright_on\u001b[0m \u001b[1;33m=\u001b[0m \u001b[1;33m[\u001b[0m\u001b[1;34m'Date'\u001b[0m\u001b[1;33m]\u001b[0m\u001b[1;33m,\u001b[0m \u001b[0mhow\u001b[0m\u001b[1;33m=\u001b[0m\u001b[1;34m'left'\u001b[0m\u001b[1;33m)\u001b[0m\u001b[1;33m\u001b[0m\u001b[1;33m\u001b[0m\u001b[0m\n\u001b[0;32m      5\u001b[0m \u001b[0mdata\u001b[0m \u001b[1;33m=\u001b[0m \u001b[0mpd\u001b[0m\u001b[1;33m.\u001b[0m\u001b[0mmerge\u001b[0m\u001b[1;33m(\u001b[0m\u001b[0mdata\u001b[0m\u001b[1;33m,\u001b[0m \u001b[0mnews_sentiment\u001b[0m\u001b[1;33m,\u001b[0m \u001b[0mleft_on\u001b[0m \u001b[1;33m=\u001b[0m \u001b[1;33m[\u001b[0m\u001b[1;34m'Date'\u001b[0m\u001b[1;33m]\u001b[0m\u001b[1;33m,\u001b[0m \u001b[0mright_on\u001b[0m \u001b[1;33m=\u001b[0m \u001b[1;33m[\u001b[0m\u001b[1;34m'DateTime'\u001b[0m\u001b[1;33m]\u001b[0m\u001b[1;33m,\u001b[0m \u001b[0mhow\u001b[0m\u001b[1;33m=\u001b[0m\u001b[1;34m'left'\u001b[0m\u001b[1;33m)\u001b[0m\u001b[1;33m\u001b[0m\u001b[1;33m\u001b[0m\u001b[0m\n",
      "\u001b[1;32m~\\AppData\\Roaming\\Python\\Python37\\site-packages\\pandas\\core\\frame.py\u001b[0m in \u001b[0;36m__getitem__\u001b[1;34m(self, key)\u001b[0m\n\u001b[0;32m   2999\u001b[0m             \u001b[1;32mif\u001b[0m \u001b[0mis_iterator\u001b[0m\u001b[1;33m(\u001b[0m\u001b[0mkey\u001b[0m\u001b[1;33m)\u001b[0m\u001b[1;33m:\u001b[0m\u001b[1;33m\u001b[0m\u001b[1;33m\u001b[0m\u001b[0m\n\u001b[0;32m   3000\u001b[0m                 \u001b[0mkey\u001b[0m \u001b[1;33m=\u001b[0m \u001b[0mlist\u001b[0m\u001b[1;33m(\u001b[0m\u001b[0mkey\u001b[0m\u001b[1;33m)\u001b[0m\u001b[1;33m\u001b[0m\u001b[1;33m\u001b[0m\u001b[0m\n\u001b[1;32m-> 3001\u001b[1;33m             \u001b[0mindexer\u001b[0m \u001b[1;33m=\u001b[0m \u001b[0mself\u001b[0m\u001b[1;33m.\u001b[0m\u001b[0mloc\u001b[0m\u001b[1;33m.\u001b[0m\u001b[0m_convert_to_indexer\u001b[0m\u001b[1;33m(\u001b[0m\u001b[0mkey\u001b[0m\u001b[1;33m,\u001b[0m \u001b[0maxis\u001b[0m\u001b[1;33m=\u001b[0m\u001b[1;36m1\u001b[0m\u001b[1;33m,\u001b[0m \u001b[0mraise_missing\u001b[0m\u001b[1;33m=\u001b[0m\u001b[1;32mTrue\u001b[0m\u001b[1;33m)\u001b[0m\u001b[1;33m\u001b[0m\u001b[1;33m\u001b[0m\u001b[0m\n\u001b[0m\u001b[0;32m   3002\u001b[0m \u001b[1;33m\u001b[0m\u001b[0m\n\u001b[0;32m   3003\u001b[0m         \u001b[1;31m# take() does not accept boolean indexers\u001b[0m\u001b[1;33m\u001b[0m\u001b[1;33m\u001b[0m\u001b[1;33m\u001b[0m\u001b[0m\n",
      "\u001b[1;32m~\\AppData\\Roaming\\Python\\Python37\\site-packages\\pandas\\core\\indexing.py\u001b[0m in \u001b[0;36m_convert_to_indexer\u001b[1;34m(self, obj, axis, is_setter, raise_missing)\u001b[0m\n\u001b[0;32m   1283\u001b[0m                 \u001b[1;31m# When setting, missing keys are not allowed, even with .loc:\u001b[0m\u001b[1;33m\u001b[0m\u001b[1;33m\u001b[0m\u001b[1;33m\u001b[0m\u001b[0m\n\u001b[0;32m   1284\u001b[0m                 \u001b[0mkwargs\u001b[0m \u001b[1;33m=\u001b[0m \u001b[1;33m{\u001b[0m\u001b[1;34m\"raise_missing\"\u001b[0m\u001b[1;33m:\u001b[0m \u001b[1;32mTrue\u001b[0m \u001b[1;32mif\u001b[0m \u001b[0mis_setter\u001b[0m \u001b[1;32melse\u001b[0m \u001b[0mraise_missing\u001b[0m\u001b[1;33m}\u001b[0m\u001b[1;33m\u001b[0m\u001b[1;33m\u001b[0m\u001b[0m\n\u001b[1;32m-> 1285\u001b[1;33m                 \u001b[1;32mreturn\u001b[0m \u001b[0mself\u001b[0m\u001b[1;33m.\u001b[0m\u001b[0m_get_listlike_indexer\u001b[0m\u001b[1;33m(\u001b[0m\u001b[0mobj\u001b[0m\u001b[1;33m,\u001b[0m \u001b[0maxis\u001b[0m\u001b[1;33m,\u001b[0m \u001b[1;33m**\u001b[0m\u001b[0mkwargs\u001b[0m\u001b[1;33m)\u001b[0m\u001b[1;33m[\u001b[0m\u001b[1;36m1\u001b[0m\u001b[1;33m]\u001b[0m\u001b[1;33m\u001b[0m\u001b[1;33m\u001b[0m\u001b[0m\n\u001b[0m\u001b[0;32m   1286\u001b[0m         \u001b[1;32melse\u001b[0m\u001b[1;33m:\u001b[0m\u001b[1;33m\u001b[0m\u001b[1;33m\u001b[0m\u001b[0m\n\u001b[0;32m   1287\u001b[0m             \u001b[1;32mtry\u001b[0m\u001b[1;33m:\u001b[0m\u001b[1;33m\u001b[0m\u001b[1;33m\u001b[0m\u001b[0m\n",
      "\u001b[1;32m~\\AppData\\Roaming\\Python\\Python37\\site-packages\\pandas\\core\\indexing.py\u001b[0m in \u001b[0;36m_get_listlike_indexer\u001b[1;34m(self, key, axis, raise_missing)\u001b[0m\n\u001b[0;32m   1090\u001b[0m \u001b[1;33m\u001b[0m\u001b[0m\n\u001b[0;32m   1091\u001b[0m         self._validate_read_indexer(\n\u001b[1;32m-> 1092\u001b[1;33m             \u001b[0mkeyarr\u001b[0m\u001b[1;33m,\u001b[0m \u001b[0mindexer\u001b[0m\u001b[1;33m,\u001b[0m \u001b[0mo\u001b[0m\u001b[1;33m.\u001b[0m\u001b[0m_get_axis_number\u001b[0m\u001b[1;33m(\u001b[0m\u001b[0maxis\u001b[0m\u001b[1;33m)\u001b[0m\u001b[1;33m,\u001b[0m \u001b[0mraise_missing\u001b[0m\u001b[1;33m=\u001b[0m\u001b[0mraise_missing\u001b[0m\u001b[1;33m\u001b[0m\u001b[1;33m\u001b[0m\u001b[0m\n\u001b[0m\u001b[0;32m   1093\u001b[0m         )\n\u001b[0;32m   1094\u001b[0m         \u001b[1;32mreturn\u001b[0m \u001b[0mkeyarr\u001b[0m\u001b[1;33m,\u001b[0m \u001b[0mindexer\u001b[0m\u001b[1;33m\u001b[0m\u001b[1;33m\u001b[0m\u001b[0m\n",
      "\u001b[1;32m~\\AppData\\Roaming\\Python\\Python37\\site-packages\\pandas\\core\\indexing.py\u001b[0m in \u001b[0;36m_validate_read_indexer\u001b[1;34m(self, key, indexer, axis, raise_missing)\u001b[0m\n\u001b[0;32m   1183\u001b[0m             \u001b[1;32mif\u001b[0m \u001b[1;32mnot\u001b[0m \u001b[1;33m(\u001b[0m\u001b[0mself\u001b[0m\u001b[1;33m.\u001b[0m\u001b[0mname\u001b[0m \u001b[1;33m==\u001b[0m \u001b[1;34m\"loc\"\u001b[0m \u001b[1;32mand\u001b[0m \u001b[1;32mnot\u001b[0m \u001b[0mraise_missing\u001b[0m\u001b[1;33m)\u001b[0m\u001b[1;33m:\u001b[0m\u001b[1;33m\u001b[0m\u001b[1;33m\u001b[0m\u001b[0m\n\u001b[0;32m   1184\u001b[0m                 \u001b[0mnot_found\u001b[0m \u001b[1;33m=\u001b[0m \u001b[0mlist\u001b[0m\u001b[1;33m(\u001b[0m\u001b[0mset\u001b[0m\u001b[1;33m(\u001b[0m\u001b[0mkey\u001b[0m\u001b[1;33m)\u001b[0m \u001b[1;33m-\u001b[0m \u001b[0mset\u001b[0m\u001b[1;33m(\u001b[0m\u001b[0max\u001b[0m\u001b[1;33m)\u001b[0m\u001b[1;33m)\u001b[0m\u001b[1;33m\u001b[0m\u001b[1;33m\u001b[0m\u001b[0m\n\u001b[1;32m-> 1185\u001b[1;33m                 \u001b[1;32mraise\u001b[0m \u001b[0mKeyError\u001b[0m\u001b[1;33m(\u001b[0m\u001b[1;34m\"{} not in index\"\u001b[0m\u001b[1;33m.\u001b[0m\u001b[0mformat\u001b[0m\u001b[1;33m(\u001b[0m\u001b[0mnot_found\u001b[0m\u001b[1;33m)\u001b[0m\u001b[1;33m)\u001b[0m\u001b[1;33m\u001b[0m\u001b[1;33m\u001b[0m\u001b[0m\n\u001b[0m\u001b[0;32m   1186\u001b[0m \u001b[1;33m\u001b[0m\u001b[0m\n\u001b[0;32m   1187\u001b[0m             \u001b[1;31m# we skip the warning on Categorical/Interval\u001b[0m\u001b[1;33m\u001b[0m\u001b[1;33m\u001b[0m\u001b[1;33m\u001b[0m\u001b[0m\n",
      "\u001b[1;31mKeyError\u001b[0m: \"['Date'] not in index\""
     ]
    }
   ],
   "source": [
    "stock = stock_nyse[stock_nyse.Ticker == selected_ticker][['Date','Value']].rename(columns={'Value':'stock_closing_usd'})\n",
    "news_sentiment = news_sentiment[['DateTime','Daily News Sentiment']]\n",
    "\n",
    "data = pd.merge(data, stock, left_on = ['Date'], right_on = ['Date'], how='left')\n",
    "data = pd.merge(data, news_sentiment, left_on = ['Date'], right_on = ['DateTime'], how='left')\n",
    "data.sort_values(by='Date',ascending=True)"
   ]
  },
  {
   "cell_type": "code",
   "execution_count": null,
   "metadata": {},
   "outputs": [],
   "source": []
  }
 ]
}