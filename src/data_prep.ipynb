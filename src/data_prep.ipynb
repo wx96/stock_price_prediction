{
 "metadata": {
  "language_info": {
   "codemirror_mode": {
    "name": "ipython",
    "version": 3
   },
   "file_extension": ".py",
   "mimetype": "text/x-python",
   "name": "python",
   "nbconvert_exporter": "python",
   "pygments_lexer": "ipython3",
   "version": "3.7.3-final"
  },
  "orig_nbformat": 2,
  "kernelspec": {
   "name": "python3",
   "display_name": "Python 3.7.3 64-bit (conda)",
   "metadata": {
    "interpreter": {
     "hash": "12d97fcee38ab8920190a90bce14ec7ccb9df672937f2d1454d10b81de6741b2"
    }
   }
  }
 },
 "nbformat": 4,
 "nbformat_minor": 2,
 "cells": [
  {
   "cell_type": "code",
   "execution_count": 1,
   "metadata": {},
   "outputs": [],
   "source": [
    "import pandas as pd\n",
    "import requests"
   ]
  },
  {
   "cell_type": "code",
   "execution_count": 2,
   "metadata": {},
   "outputs": [],
   "source": [
    "selected_ticker = 'XOM'"
   ]
  },
  {
   "cell_type": "code",
   "execution_count": 3,
   "metadata": {},
   "outputs": [
    {
     "output_type": "stream",
     "name": "stdout",
     "text": [
      "(4077, 1)\n"
     ]
    },
    {
     "output_type": "execute_result",
     "data": {
      "text/plain": [
       "        Date\n",
       "0 2010-01-01\n",
       "1 2010-01-02"
      ],
      "text/html": "<div>\n<style scoped>\n    .dataframe tbody tr th:only-of-type {\n        vertical-align: middle;\n    }\n\n    .dataframe tbody tr th {\n        vertical-align: top;\n    }\n\n    .dataframe thead th {\n        text-align: right;\n    }\n</style>\n<table border=\"1\" class=\"dataframe\">\n  <thead>\n    <tr style=\"text-align: right;\">\n      <th></th>\n      <th>Date</th>\n    </tr>\n  </thead>\n  <tbody>\n    <tr>\n      <th>0</th>\n      <td>2010-01-01</td>\n    </tr>\n    <tr>\n      <th>1</th>\n      <td>2010-01-02</td>\n    </tr>\n  </tbody>\n</table>\n</div>"
     },
     "metadata": {},
     "execution_count": 3
    }
   ],
   "source": [
    "data = pd.DataFrame(pd.date_range(start='2010-01-01', end='2021-02-28', closed=None), columns=['Date'])\n",
    "print(data.shape)\n",
    "data.head(2)"
   ]
  },
  {
   "cell_type": "code",
   "execution_count": 4,
   "metadata": {},
   "outputs": [],
   "source": [
    "path_stock = '../full_dataset/stock_closing_nyse.csv'\n",
    "path_sentiment_global = '../full_dataset/news-sentiment-index_global.csv' # keyword: exxon, oil, gas\n",
    "path_sentiment_finance = '../full_dataset/news-sentiment-index_finance.csv' # keyword: exxon, oil, gas\n",
    "path_stock_index = '../full_dataset/stock_index.csv'\n",
    "path_price_commodity = '../full_dataset/price_commodity.csv' # filter: crude, gasoline, settle price\n",
    "path_interest_rate = '../full_dataset/interest_rate.csv' # filter: monthly, exclude forecast\n",
    "path_inventory_outlook = '../full_dataset/inventory_outlook.csv' # filter: crude, Us, monthly\n",
    "path_jodi_demand = '../full_dataset/jodi_demand.csv' # filter: jodi, demand\n",
    "path_mobility_apple = '../full_dataset/mobility_apple.csv' # filter: US, sub-region\n",
    "path_mobility_google = '../full_dataset/mobility_google.csv' # filter: US\n"
   ]
  },
  {
   "cell_type": "code",
   "execution_count": 5,
   "metadata": {},
   "outputs": [],
   "source": [
    "stock_nyse = pd.read_csv(path_stock, parse_dates=['Date Value'])\n",
    "stock = stock_nyse[stock_nyse.Ticker == selected_ticker][['Date Value','Value']].rename(columns={'Value':'stock_closing_usd', 'Date Value':'Date'}).sort_values('Date')\n",
    "\n",
    "sentiment_global = pd.read_csv(path_sentiment_global, parse_dates=['DateTime'])\n",
    "sentiment_global = sentiment_global[['DateTime','Index']].rename(columns={'DateTime':'Date','Index':'sentiment_global_index'}).sort_values('Date')\n",
    "\n",
    "sentiment_finance = pd.read_csv(path_sentiment_finance, parse_dates=['DateTime'])\n",
    "sentiment_finance = sentiment_finance[['DateTime','Index']].rename(columns={'DateTime':'Date','Index':'sentiment_finance_index'}).sort_values('Date')\n",
    "\n",
    "stock_index = pd.read_csv(path_stock_index, parse_dates=['Date Value']).rename(columns={'Date Value':'Date'})\n",
    "stock_index = stock_index.pivot_table(index=['Date'], columns='Description', values='Value').reset_index()\n",
    "\n",
    "price_commodity = pd.read_csv(path_price_commodity, parse_dates=['Date Value']).rename(columns={'Date Value':'Date'})\n",
    "price_commodity = price_commodity.pivot_table(index=['Date'], columns='Commodity And Exchange', values='Value').reset_index()\n",
    "\n",
    "interest_rate = pd.read_csv(path_interest_rate, parse_dates=['Date Value']).rename(columns={'Date Value':'Date'})\n",
    "interest_rate['indicator_region'] = interest_rate['Indicator'] + '_' + interest_rate['Region']\n",
    "interest_rate = interest_rate.pivot_table(index=['Date','Period Value'], columns='indicator_region', values='Value').reset_index().rename(columns={'Period Value' : 'interest_rate_freq'})\n",
    "\n",
    "inventory_outlook = pd.read_csv(path_inventory_outlook, parse_dates=['Date Value']).rename(columns={'Date Value':'Date'})\n",
    "inventory_outlook['sector_unit'] = inventory_outlook['Sub-Sector Level 3'] + '_' + inventory_outlook['Unit']\n",
    "inventory_outlook = inventory_outlook.pivot_table(index=['Date'], columns='sector_unit', values='Value').reset_index()\n",
    "\n",
    "jodi_demand = pd.read_csv(path_jodi_demand, parse_dates=['Date Value']).rename(columns={'Date Value':'Date'})\n",
    "# jodi_demand['indicator'] = 'JODI_demand_' + jodi_demand['Country']\n",
    "# jodi_demand = jodi_demand.pivot_table(index=['Date','Period Value'], columns='indicator', values='Value').reset_index().rename(columns={'Period Value' : 'jodi_demand_freq'})\n",
    "jodi_demand = jodi_demand.groupby(['Date'])['Value'].agg('sum').reset_index().rename(columns={'Value':'jodi_demand'})\n",
    "jodi_demand\n",
    "\n",
    "mobility_apple = pd.read_csv(path_mobility_apple, parse_dates=['Date Value']).rename(columns={'Date Value':'Date'})\n",
    "# mobility_apple['indicator'] = mobility_apple['Transportation Type'] + '_' + mobility_apple['Country'] + '_' + mobility_apple['Region']\n",
    "mobility_apple = mobility_apple.groupby(['Date','Transportation Type'])['Value'].agg('mean').reset_index()\n",
    "mobility_apple = mobility_apple.pivot_table(index=['Date'], columns='Transportation Type', values='Value').reset_index()\n",
    "\n",
    "mobility_google = pd.read_csv(path_mobility_google, parse_dates=['Date Value']).rename(columns={'Date Value':'Date'})\n",
    "mobility_google = mobility_google.groupby(['Date','Indicator'])['Value'].agg('mean').reset_index()\n",
    "mobility_google = mobility_google.pivot_table(index=['Date'], columns='Indicator', values='Value').reset_index()\n",
    "# mobility_google['indicator'] = mobility_google['Indicator'] + '_' + mobility_google['Sub Region 1'] + '_' + mobility_google['Sub Region 2']\n",
    "# mobility_google = mobility_google.pivot_table(index=['Date'], columns='indicator', values='Value').reset_index()"
   ]
  },
  {
   "cell_type": "code",
   "execution_count": 6,
   "metadata": {},
   "outputs": [
    {
     "output_type": "execute_result",
     "data": {
      "text/plain": [
       "        Date  stock_closing_usd  sentiment_global_index  \\\n",
       "0 2010-01-01                NaN                     NaN   \n",
       "1 2010-01-02                NaN                     NaN   \n",
       "2 2010-01-03                NaN                     NaN   \n",
       "3 2010-01-04              69.15                     NaN   \n",
       "4 2010-01-05              69.42                     NaN   \n",
       "\n",
       "   sentiment_finance_index  DOW JONES COMPOSITE AVERAGE  \\\n",
       "0                      NaN                          NaN   \n",
       "1                      NaN                          NaN   \n",
       "2                      NaN                          NaN   \n",
       "3                      NaN                          NaN   \n",
       "4                      NaN                          NaN   \n",
       "\n",
       "   DOW JONES INDUSTRIAL AVERAGE  DOW JONES TRANSPORTATION AVERAGE  \\\n",
       "0                           NaN                               NaN   \n",
       "1                           NaN                               NaN   \n",
       "2                           NaN                               NaN   \n",
       "3                          1.82                               NaN   \n",
       "4                          1.82                               NaN   \n",
       "\n",
       "   DOW JONES UTILITY AVERAGE  S&P 500  ICE BRENT CRUDE OIL FUTURES  ...  \\\n",
       "0                        NaN      NaN                          NaN  ...   \n",
       "1                        NaN      NaN                          NaN  ...   \n",
       "2                        NaN      NaN                          NaN  ...   \n",
       "3                        NaN      NaN                        80.12  ...   \n",
       "4                        NaN      NaN                        80.59  ...   \n",
       "\n",
       "   jodi_demand  DRIVING TRANSIT  WALKING  \\\n",
       "0     71692.12      NaN     NaN      NaN   \n",
       "1          NaN      NaN     NaN      NaN   \n",
       "2          NaN      NaN     NaN      NaN   \n",
       "3          NaN      NaN     NaN      NaN   \n",
       "4          NaN      NaN     NaN      NaN   \n",
       "\n",
       "   GROCERY AND PHARMACY PERCENT CHANGE FROM BASELINE  \\\n",
       "0                                                NaN   \n",
       "1                                                NaN   \n",
       "2                                                NaN   \n",
       "3                                                NaN   \n",
       "4                                                NaN   \n",
       "\n",
       "   PARKS PERCENT CHANGE FROM BASELINE  \\\n",
       "0                                 NaN   \n",
       "1                                 NaN   \n",
       "2                                 NaN   \n",
       "3                                 NaN   \n",
       "4                                 NaN   \n",
       "\n",
       "   RESIDENTIAL PERCENT CHANGE FROM BASELINE  \\\n",
       "0                                       NaN   \n",
       "1                                       NaN   \n",
       "2                                       NaN   \n",
       "3                                       NaN   \n",
       "4                                       NaN   \n",
       "\n",
       "   RETAIL AND RECREATION PERECENT CHANGE FROM BASELINE  \\\n",
       "0                                                NaN     \n",
       "1                                                NaN     \n",
       "2                                                NaN     \n",
       "3                                                NaN     \n",
       "4                                                NaN     \n",
       "\n",
       "   TRANSIT STATIONS PERCENT CHANGE FROM BASELINE  \\\n",
       "0                                            NaN   \n",
       "1                                            NaN   \n",
       "2                                            NaN   \n",
       "3                                            NaN   \n",
       "4                                            NaN   \n",
       "\n",
       "   WORKPLACES PERCENT CHANGE FROM BASELINE  \n",
       "0                                      NaN  \n",
       "1                                      NaN  \n",
       "2                                      NaN  \n",
       "3                                      NaN  \n",
       "4                                      NaN  \n",
       "\n",
       "[5 rows x 37 columns]"
      ],
      "text/html": "<div>\n<style scoped>\n    .dataframe tbody tr th:only-of-type {\n        vertical-align: middle;\n    }\n\n    .dataframe tbody tr th {\n        vertical-align: top;\n    }\n\n    .dataframe thead th {\n        text-align: right;\n    }\n</style>\n<table border=\"1\" class=\"dataframe\">\n  <thead>\n    <tr style=\"text-align: right;\">\n      <th></th>\n      <th>Date</th>\n      <th>stock_closing_usd</th>\n      <th>sentiment_global_index</th>\n      <th>sentiment_finance_index</th>\n      <th>DOW JONES COMPOSITE AVERAGE</th>\n      <th>DOW JONES INDUSTRIAL AVERAGE</th>\n      <th>DOW JONES TRANSPORTATION AVERAGE</th>\n      <th>DOW JONES UTILITY AVERAGE</th>\n      <th>S&amp;P 500</th>\n      <th>ICE BRENT CRUDE OIL FUTURES</th>\n      <th>...</th>\n      <th>jodi_demand</th>\n      <th>DRIVING</th>\n      <th>TRANSIT</th>\n      <th>WALKING</th>\n      <th>GROCERY AND PHARMACY PERCENT CHANGE FROM BASELINE</th>\n      <th>PARKS PERCENT CHANGE FROM BASELINE</th>\n      <th>RESIDENTIAL PERCENT CHANGE FROM BASELINE</th>\n      <th>RETAIL AND RECREATION PERECENT CHANGE FROM BASELINE</th>\n      <th>TRANSIT STATIONS PERCENT CHANGE FROM BASELINE</th>\n      <th>WORKPLACES PERCENT CHANGE FROM BASELINE</th>\n    </tr>\n  </thead>\n  <tbody>\n    <tr>\n      <th>0</th>\n      <td>2010-01-01</td>\n      <td>NaN</td>\n      <td>NaN</td>\n      <td>NaN</td>\n      <td>NaN</td>\n      <td>NaN</td>\n      <td>NaN</td>\n      <td>NaN</td>\n      <td>NaN</td>\n      <td>NaN</td>\n      <td>...</td>\n      <td>71692.12</td>\n      <td>NaN</td>\n      <td>NaN</td>\n      <td>NaN</td>\n      <td>NaN</td>\n      <td>NaN</td>\n      <td>NaN</td>\n      <td>NaN</td>\n      <td>NaN</td>\n      <td>NaN</td>\n    </tr>\n    <tr>\n      <th>1</th>\n      <td>2010-01-02</td>\n      <td>NaN</td>\n      <td>NaN</td>\n      <td>NaN</td>\n      <td>NaN</td>\n      <td>NaN</td>\n      <td>NaN</td>\n      <td>NaN</td>\n      <td>NaN</td>\n      <td>NaN</td>\n      <td>...</td>\n      <td>NaN</td>\n      <td>NaN</td>\n      <td>NaN</td>\n      <td>NaN</td>\n      <td>NaN</td>\n      <td>NaN</td>\n      <td>NaN</td>\n      <td>NaN</td>\n      <td>NaN</td>\n      <td>NaN</td>\n    </tr>\n    <tr>\n      <th>2</th>\n      <td>2010-01-03</td>\n      <td>NaN</td>\n      <td>NaN</td>\n      <td>NaN</td>\n      <td>NaN</td>\n      <td>NaN</td>\n      <td>NaN</td>\n      <td>NaN</td>\n      <td>NaN</td>\n      <td>NaN</td>\n      <td>...</td>\n      <td>NaN</td>\n      <td>NaN</td>\n      <td>NaN</td>\n      <td>NaN</td>\n      <td>NaN</td>\n      <td>NaN</td>\n      <td>NaN</td>\n      <td>NaN</td>\n      <td>NaN</td>\n      <td>NaN</td>\n    </tr>\n    <tr>\n      <th>3</th>\n      <td>2010-01-04</td>\n      <td>69.15</td>\n      <td>NaN</td>\n      <td>NaN</td>\n      <td>NaN</td>\n      <td>1.82</td>\n      <td>NaN</td>\n      <td>NaN</td>\n      <td>NaN</td>\n      <td>80.12</td>\n      <td>...</td>\n      <td>NaN</td>\n      <td>NaN</td>\n      <td>NaN</td>\n      <td>NaN</td>\n      <td>NaN</td>\n      <td>NaN</td>\n      <td>NaN</td>\n      <td>NaN</td>\n      <td>NaN</td>\n      <td>NaN</td>\n    </tr>\n    <tr>\n      <th>4</th>\n      <td>2010-01-05</td>\n      <td>69.42</td>\n      <td>NaN</td>\n      <td>NaN</td>\n      <td>NaN</td>\n      <td>1.82</td>\n      <td>NaN</td>\n      <td>NaN</td>\n      <td>NaN</td>\n      <td>80.59</td>\n      <td>...</td>\n      <td>NaN</td>\n      <td>NaN</td>\n      <td>NaN</td>\n      <td>NaN</td>\n      <td>NaN</td>\n      <td>NaN</td>\n      <td>NaN</td>\n      <td>NaN</td>\n      <td>NaN</td>\n      <td>NaN</td>\n    </tr>\n  </tbody>\n</table>\n<p>5 rows × 37 columns</p>\n</div>"
     },
     "metadata": {},
     "execution_count": 6
    }
   ],
   "source": [
    "# merge data\n",
    "data = pd.merge(data, stock, on = ['Date'], how='left')\n",
    "data = pd.merge(data, sentiment_global, on = ['Date'], how='left')\n",
    "data = pd.merge(data, sentiment_finance, on = ['Date'], how='left')\n",
    "data = pd.merge(data, stock_index, on = ['Date'], how='left')\n",
    "data = pd.merge(data, price_commodity, on = ['Date'], how='left')\n",
    "data = pd.merge(data, interest_rate, on = ['Date'], how='left')\n",
    "data = pd.merge(data, inventory_outlook, on = ['Date'], how='left')\n",
    "data = pd.merge(data, jodi_demand, on = ['Date'], how='left')\n",
    "data = pd.merge(data, mobility_apple, on = ['Date'], how='left')\n",
    "data = pd.merge(data, mobility_google, on = ['Date'], how='left')\n",
    "data.head(5)"
   ]
  },
  {
   "cell_type": "code",
   "execution_count": 7,
   "metadata": {},
   "outputs": [],
   "source": [
    "data.to_csv('../data/data_2010_2021.csv', index=False)"
   ]
  },
  {
   "cell_type": "code",
   "execution_count": 9,
   "metadata": {},
   "outputs": [
    {
     "output_type": "execute_result",
     "data": {
      "text/plain": [
       "          Date  jodi_demand\n",
       "0   2002-01-31     57820.69\n",
       "1   2002-02-28     58492.45\n",
       "2   2002-03-31     57324.90\n",
       "3   2002-04-30     56688.98\n",
       "4   2002-05-31     55667.86\n",
       "5   2002-06-30     56364.20\n",
       "6   2002-07-31     57830.44\n",
       "7   2002-08-31     57525.21\n",
       "8   2002-09-30     57274.55\n",
       "9   2002-10-31     58027.12\n",
       "10  2002-11-30     59954.64\n",
       "11  2002-12-31     60940.21\n",
       "12  2003-01-31     61101.07\n",
       "13  2003-02-28     63362.00\n",
       "14  2003-03-31     60436.83\n",
       "15  2003-04-30     59508.08\n",
       "16  2003-05-31     60816.68\n",
       "17  2003-06-30     59961.82\n",
       "18  2003-07-31     59625.16\n",
       "19  2003-08-31     60209.60\n",
       "20  2003-09-30     61286.84\n",
       "21  2003-10-31     61802.56\n",
       "22  2003-11-30     60827.42\n",
       "23  2003-12-31     63735.48\n",
       "24  2004-01-31     66609.44\n",
       "25  2004-02-29     69088.74\n",
       "26  2004-03-31     69541.85\n",
       "27  2004-04-30     68146.08\n",
       "28  2004-05-31     64620.71\n",
       "29  2004-06-30     68586.32\n",
       "..         ...          ...\n",
       "193 2018-02-01     82446.91\n",
       "194 2018-03-01     83032.13\n",
       "195 2018-04-01     82689.11\n",
       "196 2018-05-01     82068.18\n",
       "197 2018-06-01     82567.66\n",
       "198 2018-07-01     82820.46\n",
       "199 2018-08-01     81375.42\n",
       "200 2018-09-01     81182.43\n",
       "201 2018-10-01     81892.99\n",
       "202 2018-11-01     81804.38\n",
       "203 2018-12-01     81106.00\n",
       "204 2019-01-01     81028.07\n",
       "205 2019-02-01     82031.23\n",
       "206 2019-03-01     78583.01\n",
       "207 2019-04-01     80802.78\n",
       "208 2019-05-01     79922.20\n",
       "209 2019-06-01     80104.36\n",
       "210 2019-07-01     80036.33\n",
       "211 2019-08-01     81020.83\n",
       "212 2019-09-01     79410.05\n",
       "213 2019-10-01     79679.51\n",
       "214 2019-11-01     81773.64\n",
       "215 2019-12-01     80404.64\n",
       "216 2020-01-01     77815.13\n",
       "217 2020-02-01     79329.94\n",
       "218 2020-03-01     72545.42\n",
       "219 2020-04-01     62145.54\n",
       "220 2020-05-01     66051.37\n",
       "221 2020-06-01     67418.26\n",
       "222 2020-07-01     63413.35\n",
       "\n",
       "[223 rows x 2 columns]"
      ],
      "text/html": "<div>\n<style scoped>\n    .dataframe tbody tr th:only-of-type {\n        vertical-align: middle;\n    }\n\n    .dataframe tbody tr th {\n        vertical-align: top;\n    }\n\n    .dataframe thead th {\n        text-align: right;\n    }\n</style>\n<table border=\"1\" class=\"dataframe\">\n  <thead>\n    <tr style=\"text-align: right;\">\n      <th></th>\n      <th>Date</th>\n      <th>jodi_demand</th>\n    </tr>\n  </thead>\n  <tbody>\n    <tr>\n      <th>0</th>\n      <td>2002-01-31</td>\n      <td>57820.69</td>\n    </tr>\n    <tr>\n      <th>1</th>\n      <td>2002-02-28</td>\n      <td>58492.45</td>\n    </tr>\n    <tr>\n      <th>2</th>\n      <td>2002-03-31</td>\n      <td>57324.90</td>\n    </tr>\n    <tr>\n      <th>3</th>\n      <td>2002-04-30</td>\n      <td>56688.98</td>\n    </tr>\n    <tr>\n      <th>4</th>\n      <td>2002-05-31</td>\n      <td>55667.86</td>\n    </tr>\n    <tr>\n      <th>5</th>\n      <td>2002-06-30</td>\n      <td>56364.20</td>\n    </tr>\n    <tr>\n      <th>6</th>\n      <td>2002-07-31</td>\n      <td>57830.44</td>\n    </tr>\n    <tr>\n      <th>7</th>\n      <td>2002-08-31</td>\n      <td>57525.21</td>\n    </tr>\n    <tr>\n      <th>8</th>\n      <td>2002-09-30</td>\n      <td>57274.55</td>\n    </tr>\n    <tr>\n      <th>9</th>\n      <td>2002-10-31</td>\n      <td>58027.12</td>\n    </tr>\n    <tr>\n      <th>10</th>\n      <td>2002-11-30</td>\n      <td>59954.64</td>\n    </tr>\n    <tr>\n      <th>11</th>\n      <td>2002-12-31</td>\n      <td>60940.21</td>\n    </tr>\n    <tr>\n      <th>12</th>\n      <td>2003-01-31</td>\n      <td>61101.07</td>\n    </tr>\n    <tr>\n      <th>13</th>\n      <td>2003-02-28</td>\n      <td>63362.00</td>\n    </tr>\n    <tr>\n      <th>14</th>\n      <td>2003-03-31</td>\n      <td>60436.83</td>\n    </tr>\n    <tr>\n      <th>15</th>\n      <td>2003-04-30</td>\n      <td>59508.08</td>\n    </tr>\n    <tr>\n      <th>16</th>\n      <td>2003-05-31</td>\n      <td>60816.68</td>\n    </tr>\n    <tr>\n      <th>17</th>\n      <td>2003-06-30</td>\n      <td>59961.82</td>\n    </tr>\n    <tr>\n      <th>18</th>\n      <td>2003-07-31</td>\n      <td>59625.16</td>\n    </tr>\n    <tr>\n      <th>19</th>\n      <td>2003-08-31</td>\n      <td>60209.60</td>\n    </tr>\n    <tr>\n      <th>20</th>\n      <td>2003-09-30</td>\n      <td>61286.84</td>\n    </tr>\n    <tr>\n      <th>21</th>\n      <td>2003-10-31</td>\n      <td>61802.56</td>\n    </tr>\n    <tr>\n      <th>22</th>\n      <td>2003-11-30</td>\n      <td>60827.42</td>\n    </tr>\n    <tr>\n      <th>23</th>\n      <td>2003-12-31</td>\n      <td>63735.48</td>\n    </tr>\n    <tr>\n      <th>24</th>\n      <td>2004-01-31</td>\n      <td>66609.44</td>\n    </tr>\n    <tr>\n      <th>25</th>\n      <td>2004-02-29</td>\n      <td>69088.74</td>\n    </tr>\n    <tr>\n      <th>26</th>\n      <td>2004-03-31</td>\n      <td>69541.85</td>\n    </tr>\n    <tr>\n      <th>27</th>\n      <td>2004-04-30</td>\n      <td>68146.08</td>\n    </tr>\n    <tr>\n      <th>28</th>\n      <td>2004-05-31</td>\n      <td>64620.71</td>\n    </tr>\n    <tr>\n      <th>29</th>\n      <td>2004-06-30</td>\n      <td>68586.32</td>\n    </tr>\n    <tr>\n      <th>...</th>\n      <td>...</td>\n      <td>...</td>\n    </tr>\n    <tr>\n      <th>193</th>\n      <td>2018-02-01</td>\n      <td>82446.91</td>\n    </tr>\n    <tr>\n      <th>194</th>\n      <td>2018-03-01</td>\n      <td>83032.13</td>\n    </tr>\n    <tr>\n      <th>195</th>\n      <td>2018-04-01</td>\n      <td>82689.11</td>\n    </tr>\n    <tr>\n      <th>196</th>\n      <td>2018-05-01</td>\n      <td>82068.18</td>\n    </tr>\n    <tr>\n      <th>197</th>\n      <td>2018-06-01</td>\n      <td>82567.66</td>\n    </tr>\n    <tr>\n      <th>198</th>\n      <td>2018-07-01</td>\n      <td>82820.46</td>\n    </tr>\n    <tr>\n      <th>199</th>\n      <td>2018-08-01</td>\n      <td>81375.42</td>\n    </tr>\n    <tr>\n      <th>200</th>\n      <td>2018-09-01</td>\n      <td>81182.43</td>\n    </tr>\n    <tr>\n      <th>201</th>\n      <td>2018-10-01</td>\n      <td>81892.99</td>\n    </tr>\n    <tr>\n      <th>202</th>\n      <td>2018-11-01</td>\n      <td>81804.38</td>\n    </tr>\n    <tr>\n      <th>203</th>\n      <td>2018-12-01</td>\n      <td>81106.00</td>\n    </tr>\n    <tr>\n      <th>204</th>\n      <td>2019-01-01</td>\n      <td>81028.07</td>\n    </tr>\n    <tr>\n      <th>205</th>\n      <td>2019-02-01</td>\n      <td>82031.23</td>\n    </tr>\n    <tr>\n      <th>206</th>\n      <td>2019-03-01</td>\n      <td>78583.01</td>\n    </tr>\n    <tr>\n      <th>207</th>\n      <td>2019-04-01</td>\n      <td>80802.78</td>\n    </tr>\n    <tr>\n      <th>208</th>\n      <td>2019-05-01</td>\n      <td>79922.20</td>\n    </tr>\n    <tr>\n      <th>209</th>\n      <td>2019-06-01</td>\n      <td>80104.36</td>\n    </tr>\n    <tr>\n      <th>210</th>\n      <td>2019-07-01</td>\n      <td>80036.33</td>\n    </tr>\n    <tr>\n      <th>211</th>\n      <td>2019-08-01</td>\n      <td>81020.83</td>\n    </tr>\n    <tr>\n      <th>212</th>\n      <td>2019-09-01</td>\n      <td>79410.05</td>\n    </tr>\n    <tr>\n      <th>213</th>\n      <td>2019-10-01</td>\n      <td>79679.51</td>\n    </tr>\n    <tr>\n      <th>214</th>\n      <td>2019-11-01</td>\n      <td>81773.64</td>\n    </tr>\n    <tr>\n      <th>215</th>\n      <td>2019-12-01</td>\n      <td>80404.64</td>\n    </tr>\n    <tr>\n      <th>216</th>\n      <td>2020-01-01</td>\n      <td>77815.13</td>\n    </tr>\n    <tr>\n      <th>217</th>\n      <td>2020-02-01</td>\n      <td>79329.94</td>\n    </tr>\n    <tr>\n      <th>218</th>\n      <td>2020-03-01</td>\n      <td>72545.42</td>\n    </tr>\n    <tr>\n      <th>219</th>\n      <td>2020-04-01</td>\n      <td>62145.54</td>\n    </tr>\n    <tr>\n      <th>220</th>\n      <td>2020-05-01</td>\n      <td>66051.37</td>\n    </tr>\n    <tr>\n      <th>221</th>\n      <td>2020-06-01</td>\n      <td>67418.26</td>\n    </tr>\n    <tr>\n      <th>222</th>\n      <td>2020-07-01</td>\n      <td>63413.35</td>\n    </tr>\n  </tbody>\n</table>\n<p>223 rows × 2 columns</p>\n</div>"
     },
     "metadata": {},
     "execution_count": 9
    }
   ],
   "source": [
    "jodi_demand"
   ]
  },
  {
   "cell_type": "code",
   "execution_count": 10,
   "metadata": {},
   "outputs": [
    {
     "output_type": "execute_result",
     "data": {
      "text/plain": [
       "          Date  jodi_demand\n",
       "0   2002-01-31     57820.69\n",
       "1   2002-02-28     58492.45\n",
       "2   2002-03-31     57324.90\n",
       "3   2002-04-30     56688.98\n",
       "4   2002-05-31     55667.86\n",
       "5   2002-06-30     56364.20\n",
       "6   2002-07-31     57830.44\n",
       "7   2002-08-31     57525.21\n",
       "8   2002-09-30     57274.55\n",
       "9   2002-10-31     58027.12\n",
       "10  2002-11-30     59954.64\n",
       "11  2002-12-31     60940.21\n",
       "12  2003-01-31     61101.07\n",
       "13  2003-02-28     63362.00\n",
       "14  2003-03-31     60436.83\n",
       "15  2003-04-30     59508.08\n",
       "16  2003-05-31     60816.68\n",
       "17  2003-06-30     59961.82\n",
       "18  2003-07-31     59625.16\n",
       "19  2003-08-31     60209.60\n",
       "20  2003-09-30     61286.84\n",
       "21  2003-10-31     61802.56\n",
       "22  2003-11-30     60827.42\n",
       "23  2003-12-31     63735.48\n",
       "24  2004-01-31     66609.44\n",
       "25  2004-02-29     69088.74\n",
       "26  2004-03-31     69541.85\n",
       "27  2004-04-30     68146.08\n",
       "28  2004-05-31     64620.71\n",
       "29  2004-06-30     68586.32\n",
       "..         ...          ...\n",
       "193 2018-02-01     82446.91\n",
       "194 2018-03-01     83032.13\n",
       "195 2018-04-01     82689.11\n",
       "196 2018-05-01     82068.18\n",
       "197 2018-06-01     82567.66\n",
       "198 2018-07-01     82820.46\n",
       "199 2018-08-01     81375.42\n",
       "200 2018-09-01     81182.43\n",
       "201 2018-10-01     81892.99\n",
       "202 2018-11-01     81804.38\n",
       "203 2018-12-01     81106.00\n",
       "204 2019-01-01     81028.07\n",
       "205 2019-02-01     82031.23\n",
       "206 2019-03-01     78583.01\n",
       "207 2019-04-01     80802.78\n",
       "208 2019-05-01     79922.20\n",
       "209 2019-06-01     80104.36\n",
       "210 2019-07-01     80036.33\n",
       "211 2019-08-01     81020.83\n",
       "212 2019-09-01     79410.05\n",
       "213 2019-10-01     79679.51\n",
       "214 2019-11-01     81773.64\n",
       "215 2019-12-01     80404.64\n",
       "216 2020-01-01     77815.13\n",
       "217 2020-02-01     79329.94\n",
       "218 2020-03-01     72545.42\n",
       "219 2020-04-01     62145.54\n",
       "220 2020-05-01     66051.37\n",
       "221 2020-06-01     67418.26\n",
       "222 2020-07-01     63413.35\n",
       "\n",
       "[223 rows x 2 columns]"
      ],
      "text/html": "<div>\n<style scoped>\n    .dataframe tbody tr th:only-of-type {\n        vertical-align: middle;\n    }\n\n    .dataframe tbody tr th {\n        vertical-align: top;\n    }\n\n    .dataframe thead th {\n        text-align: right;\n    }\n</style>\n<table border=\"1\" class=\"dataframe\">\n  <thead>\n    <tr style=\"text-align: right;\">\n      <th></th>\n      <th>Date</th>\n      <th>jodi_demand</th>\n    </tr>\n  </thead>\n  <tbody>\n    <tr>\n      <th>0</th>\n      <td>2002-01-31</td>\n      <td>57820.69</td>\n    </tr>\n    <tr>\n      <th>1</th>\n      <td>2002-02-28</td>\n      <td>58492.45</td>\n    </tr>\n    <tr>\n      <th>2</th>\n      <td>2002-03-31</td>\n      <td>57324.90</td>\n    </tr>\n    <tr>\n      <th>3</th>\n      <td>2002-04-30</td>\n      <td>56688.98</td>\n    </tr>\n    <tr>\n      <th>4</th>\n      <td>2002-05-31</td>\n      <td>55667.86</td>\n    </tr>\n    <tr>\n      <th>5</th>\n      <td>2002-06-30</td>\n      <td>56364.20</td>\n    </tr>\n    <tr>\n      <th>6</th>\n      <td>2002-07-31</td>\n      <td>57830.44</td>\n    </tr>\n    <tr>\n      <th>7</th>\n      <td>2002-08-31</td>\n      <td>57525.21</td>\n    </tr>\n    <tr>\n      <th>8</th>\n      <td>2002-09-30</td>\n      <td>57274.55</td>\n    </tr>\n    <tr>\n      <th>9</th>\n      <td>2002-10-31</td>\n      <td>58027.12</td>\n    </tr>\n    <tr>\n      <th>10</th>\n      <td>2002-11-30</td>\n      <td>59954.64</td>\n    </tr>\n    <tr>\n      <th>11</th>\n      <td>2002-12-31</td>\n      <td>60940.21</td>\n    </tr>\n    <tr>\n      <th>12</th>\n      <td>2003-01-31</td>\n      <td>61101.07</td>\n    </tr>\n    <tr>\n      <th>13</th>\n      <td>2003-02-28</td>\n      <td>63362.00</td>\n    </tr>\n    <tr>\n      <th>14</th>\n      <td>2003-03-31</td>\n      <td>60436.83</td>\n    </tr>\n    <tr>\n      <th>15</th>\n      <td>2003-04-30</td>\n      <td>59508.08</td>\n    </tr>\n    <tr>\n      <th>16</th>\n      <td>2003-05-31</td>\n      <td>60816.68</td>\n    </tr>\n    <tr>\n      <th>17</th>\n      <td>2003-06-30</td>\n      <td>59961.82</td>\n    </tr>\n    <tr>\n      <th>18</th>\n      <td>2003-07-31</td>\n      <td>59625.16</td>\n    </tr>\n    <tr>\n      <th>19</th>\n      <td>2003-08-31</td>\n      <td>60209.60</td>\n    </tr>\n    <tr>\n      <th>20</th>\n      <td>2003-09-30</td>\n      <td>61286.84</td>\n    </tr>\n    <tr>\n      <th>21</th>\n      <td>2003-10-31</td>\n      <td>61802.56</td>\n    </tr>\n    <tr>\n      <th>22</th>\n      <td>2003-11-30</td>\n      <td>60827.42</td>\n    </tr>\n    <tr>\n      <th>23</th>\n      <td>2003-12-31</td>\n      <td>63735.48</td>\n    </tr>\n    <tr>\n      <th>24</th>\n      <td>2004-01-31</td>\n      <td>66609.44</td>\n    </tr>\n    <tr>\n      <th>25</th>\n      <td>2004-02-29</td>\n      <td>69088.74</td>\n    </tr>\n    <tr>\n      <th>26</th>\n      <td>2004-03-31</td>\n      <td>69541.85</td>\n    </tr>\n    <tr>\n      <th>27</th>\n      <td>2004-04-30</td>\n      <td>68146.08</td>\n    </tr>\n    <tr>\n      <th>28</th>\n      <td>2004-05-31</td>\n      <td>64620.71</td>\n    </tr>\n    <tr>\n      <th>29</th>\n      <td>2004-06-30</td>\n      <td>68586.32</td>\n    </tr>\n    <tr>\n      <th>...</th>\n      <td>...</td>\n      <td>...</td>\n    </tr>\n    <tr>\n      <th>193</th>\n      <td>2018-02-01</td>\n      <td>82446.91</td>\n    </tr>\n    <tr>\n      <th>194</th>\n      <td>2018-03-01</td>\n      <td>83032.13</td>\n    </tr>\n    <tr>\n      <th>195</th>\n      <td>2018-04-01</td>\n      <td>82689.11</td>\n    </tr>\n    <tr>\n      <th>196</th>\n      <td>2018-05-01</td>\n      <td>82068.18</td>\n    </tr>\n    <tr>\n      <th>197</th>\n      <td>2018-06-01</td>\n      <td>82567.66</td>\n    </tr>\n    <tr>\n      <th>198</th>\n      <td>2018-07-01</td>\n      <td>82820.46</td>\n    </tr>\n    <tr>\n      <th>199</th>\n      <td>2018-08-01</td>\n      <td>81375.42</td>\n    </tr>\n    <tr>\n      <th>200</th>\n      <td>2018-09-01</td>\n      <td>81182.43</td>\n    </tr>\n    <tr>\n      <th>201</th>\n      <td>2018-10-01</td>\n      <td>81892.99</td>\n    </tr>\n    <tr>\n      <th>202</th>\n      <td>2018-11-01</td>\n      <td>81804.38</td>\n    </tr>\n    <tr>\n      <th>203</th>\n      <td>2018-12-01</td>\n      <td>81106.00</td>\n    </tr>\n    <tr>\n      <th>204</th>\n      <td>2019-01-01</td>\n      <td>81028.07</td>\n    </tr>\n    <tr>\n      <th>205</th>\n      <td>2019-02-01</td>\n      <td>82031.23</td>\n    </tr>\n    <tr>\n      <th>206</th>\n      <td>2019-03-01</td>\n      <td>78583.01</td>\n    </tr>\n    <tr>\n      <th>207</th>\n      <td>2019-04-01</td>\n      <td>80802.78</td>\n    </tr>\n    <tr>\n      <th>208</th>\n      <td>2019-05-01</td>\n      <td>79922.20</td>\n    </tr>\n    <tr>\n      <th>209</th>\n      <td>2019-06-01</td>\n      <td>80104.36</td>\n    </tr>\n    <tr>\n      <th>210</th>\n      <td>2019-07-01</td>\n      <td>80036.33</td>\n    </tr>\n    <tr>\n      <th>211</th>\n      <td>2019-08-01</td>\n      <td>81020.83</td>\n    </tr>\n    <tr>\n      <th>212</th>\n      <td>2019-09-01</td>\n      <td>79410.05</td>\n    </tr>\n    <tr>\n      <th>213</th>\n      <td>2019-10-01</td>\n      <td>79679.51</td>\n    </tr>\n    <tr>\n      <th>214</th>\n      <td>2019-11-01</td>\n      <td>81773.64</td>\n    </tr>\n    <tr>\n      <th>215</th>\n      <td>2019-12-01</td>\n      <td>80404.64</td>\n    </tr>\n    <tr>\n      <th>216</th>\n      <td>2020-01-01</td>\n      <td>77815.13</td>\n    </tr>\n    <tr>\n      <th>217</th>\n      <td>2020-02-01</td>\n      <td>79329.94</td>\n    </tr>\n    <tr>\n      <th>218</th>\n      <td>2020-03-01</td>\n      <td>72545.42</td>\n    </tr>\n    <tr>\n      <th>219</th>\n      <td>2020-04-01</td>\n      <td>62145.54</td>\n    </tr>\n    <tr>\n      <th>220</th>\n      <td>2020-05-01</td>\n      <td>66051.37</td>\n    </tr>\n    <tr>\n      <th>221</th>\n      <td>2020-06-01</td>\n      <td>67418.26</td>\n    </tr>\n    <tr>\n      <th>222</th>\n      <td>2020-07-01</td>\n      <td>63413.35</td>\n    </tr>\n  </tbody>\n</table>\n<p>223 rows × 2 columns</p>\n</div>"
     },
     "metadata": {},
     "execution_count": 10
    }
   ],
   "source": [
    "jodi_demand"
   ]
  },
  {
   "cell_type": "code",
   "execution_count": null,
   "metadata": {},
   "outputs": [],
   "source": []
  }
 ]
}