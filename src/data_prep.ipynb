{
 "metadata": {
  "language_info": {
   "codemirror_mode": {
    "name": "ipython",
    "version": 3
   },
   "file_extension": ".py",
   "mimetype": "text/x-python",
   "name": "python",
   "nbconvert_exporter": "python",
   "pygments_lexer": "ipython3",
   "version": "3.7.3-final"
  },
  "orig_nbformat": 2,
  "kernelspec": {
   "name": "python3",
   "display_name": "Python 3.7.3 64-bit (conda)",
   "metadata": {
    "interpreter": {
     "hash": "12d97fcee38ab8920190a90bce14ec7ccb9df672937f2d1454d10b81de6741b2"
    }
   }
  }
 },
 "nbformat": 4,
 "nbformat_minor": 2,
 "cells": [
  {
   "cell_type": "code",
   "execution_count": 1,
   "metadata": {},
   "outputs": [],
   "source": [
    "import pandas as pd\n",
    "import requests"
   ]
  },
  {
   "cell_type": "code",
   "execution_count": 2,
   "metadata": {},
   "outputs": [],
   "source": [
    "selected_ticker = 'XOM'"
   ]
  },
  {
   "cell_type": "code",
   "execution_count": 3,
   "metadata": {},
   "outputs": [
    {
     "output_type": "stream",
     "name": "stdout",
     "text": [
      "(4077, 1)\n"
     ]
    },
    {
     "output_type": "execute_result",
     "data": {
      "text/plain": [
       "        Date\n",
       "0 2010-01-01\n",
       "1 2010-01-02"
      ],
      "text/html": "<div>\n<style scoped>\n    .dataframe tbody tr th:only-of-type {\n        vertical-align: middle;\n    }\n\n    .dataframe tbody tr th {\n        vertical-align: top;\n    }\n\n    .dataframe thead th {\n        text-align: right;\n    }\n</style>\n<table border=\"1\" class=\"dataframe\">\n  <thead>\n    <tr style=\"text-align: right;\">\n      <th></th>\n      <th>Date</th>\n    </tr>\n  </thead>\n  <tbody>\n    <tr>\n      <th>0</th>\n      <td>2010-01-01</td>\n    </tr>\n    <tr>\n      <th>1</th>\n      <td>2010-01-02</td>\n    </tr>\n  </tbody>\n</table>\n</div>"
     },
     "metadata": {},
     "execution_count": 3
    }
   ],
   "source": [
    "data = pd.DataFrame(pd.date_range(start='2010-01-01', end='2021-02-28', closed=None), columns=['Date'])\n",
    "print(data.shape)\n",
    "data.head(2)"
   ]
  },
  {
   "cell_type": "code",
   "execution_count": 5,
   "metadata": {},
   "outputs": [],
   "source": [
    "path_stock = '../full_dataset/stock_closing_nyse.csv'\n",
    "path_sentiment_global = '../full_dataset/news-sentiment-index_global.csv' # keyword: exxon, oil, gas\n",
    "path_sentiment_finance = '../full_dataset/news-sentiment-index_finance.csv' # keyword: exxon, oil, gas\n",
    "path_stock_index = '../full_dataset/stock_index.csv'\n",
    "path_price_commodity = '../full_dataset/price_commodity.csv' # filter: crude, gasoline, settle price\n",
    "path_interest_rate = '../full_dataset/interest_rate.csv' # filter: monthly, exclude forecast\n",
    "path_inventory_outlook = '../full_dataset/inventory_outlook.csv' # filter: crude, Us, monthly\n",
    "path_jodi_demand = '../full_dataset/jodi_demand.csv' # filter: jodi, demand\n",
    "path_mobility_apple = '../full_dataset/mobility_apple.csv' # filter: US, sub-region\n",
    "path_mobility_google = '../full_dataset/mobility_google.csv' # filter: US\n"
   ]
  },
  {
   "cell_type": "code",
   "execution_count": 11,
   "metadata": {},
   "outputs": [],
   "source": [
    "stock_nyse = pd.read_csv(path_stock, parse_dates=['Date Value'])\n",
    "stock = stock_nyse[stock_nyse.Ticker == selected_ticker][['Date Value','Value']].rename(columns={'Value':'stock_closing_usd', 'Date Value':'Date'}).sort_values('Date')\n",
    "\n",
    "sentiment_global = pd.read_csv(path_sentiment_global, parse_dates=['DateTime'])\n",
    "sentiment_global = sentiment_global[['DateTime','Index']].rename(columns={'DateTime':'Date','Index':'sentiment_global_index'}).sort_values('Date')\n",
    "\n",
    "sentiment_finance = pd.read_csv(path_sentiment_finance, parse_dates=['DateTime'])\n",
    "sentiment_finance = sentiment_finance[['DateTime','Index']].rename(columns={'DateTime':'Date','Index':'sentiment_finance_index'}).sort_values('Date')\n",
    "\n",
    "stock_index = pd.read_csv(path_stock_index, parse_dates=['Date Value']).rename(columns={'Date Value':'Date'})\n",
    "stock_index = stock_index.pivot_table(index=['Date'], columns='Description', values='Value').reset_index()\n",
    "\n",
    "price_commodity = pd.read_csv(path_price_commodity, parse_dates=['Date Value']).rename(columns={'Date Value':'Date'})\n",
    "price_commodity = price_commodity.pivot_table(index=['Date'], columns='Commodity And Exchange', values='Value').reset_index()\n",
    "\n",
    "interest_rate = pd.read_csv(path_interest_rate, parse_dates=['Date Value']).rename(columns={'Date Value':'Date'})\n",
    "interest_rate['indicator_region'] = interest_rate['Indicator'] + '_' + interest_rate['Region']\n",
    "interest_rate = interest_rate.pivot_table(index=['Date','Period Value'], columns='indicator_region', values='Value').reset_index().rename(columns={'Period Value' : 'interest_rate_freq'})\n",
    "\n",
    "inventory_outlook = pd.read_csv(path_inventory_outlook, parse_dates=['Date Value']).rename(columns={'Date Value':'Date'})\n",
    "inventory_outlook['sector_unit'] = inventory_outlook['Sub-Sector Level 3'] + '_' + inventory_outlook['Unit']\n",
    "inventory_outlook = inventory_outlook.pivot_table(index=['Date'], columns='sector_unit', values='Value').reset_index()\n",
    "\n",
    "jodi_demand = pd.read_csv(path_jodi_demand, parse_dates=['Date Value']).rename(columns={'Date Value':'Date'})\n",
    "jodi_demand['indicator'] = 'JODI_demand_' + jodi_demand['Country']\n",
    "jodi_demand = jodi_demand.pivot_table(index=['Date','Period Value'], columns='indicator', values='Value').reset_index().rename(columns={'Period Value' : 'jodi_demand_freq'})\n",
    "\n",
    "mobility_apple = pd.read_csv(path_mobility_apple, parse_dates=['Date Value']).rename(columns={'Date Value':'Date'})\n",
    "mobility_apple['indicator'] = mobility_apple['Transportation Type'] + '_' + mobility_apple['Country'] + '_' + mobility_apple['Region']\n",
    "mobility_apple = mobility_apple.pivot_table(index=['Date'], columns='indicator', values='Value').reset_index()\n",
    "\n",
    "mobility_google_ori = pd.read_csv(path_mobility_google, parse_dates=['Date Value']).rename(columns={'Date Value':'Date'})\n",
    "mobility_google = mobility_google_ori.copy()\n",
    "mobility_google = mobility_google.groupby(['Date','Indicator'])['Value'].agg('mean').reset_index()\n",
    "mobility_google = mobility_google.pivot_table(index=['Date'], columns='Indicator', values='Value').reset_index()\n",
    "\n",
    "# mobility_google['indicator'] = mobility_google['Indicator'] + '_' + mobility_google['Sub Region 1'] + '_' + mobility_google['Sub Region 2']\n",
    "# mobility_google = mobility_google.pivot_table(index=['Date'], columns='indicator', values='Value').reset_index()"
   ]
  },
  {
   "cell_type": "code",
   "execution_count": 7,
   "metadata": {},
   "outputs": [
    {
     "output_type": "execute_result",
     "data": {
      "text/plain": [
       "indicator       Date jodi_demand_freq  JODI_demand_ALGERIA  \\\n",
       "0         2002-01-31                m                114.0   \n",
       "1         2002-02-28                m                128.0   \n",
       "2         2002-03-31                m                125.0   \n",
       "3         2002-04-30                m                128.0   \n",
       "4         2002-05-31                m                120.0   \n",
       "..               ...              ...                  ...   \n",
       "218       2020-03-01                d                382.0   \n",
       "219       2020-04-01                d                280.0   \n",
       "220       2020-05-01                d                284.0   \n",
       "221       2020-06-01                d                  NaN   \n",
       "222       2020-07-01                d                356.0   \n",
       "\n",
       "indicator  JODI_demand_ANGOLA  JODI_demand_ARGENTINA  JODI_demand_AUSTRALIA  \\\n",
       "0                         NaN                  296.0                 767.41   \n",
       "1                         NaN                  325.0                 844.31   \n",
       "2                         NaN                  320.0                 782.58   \n",
       "3                         NaN                  323.0                 814.94   \n",
       "4                         NaN                  344.0                 801.55   \n",
       "..                        ...                    ...                    ...   \n",
       "218                     107.0                  518.0                1047.00   \n",
       "219                      95.0                  400.0                 746.00   \n",
       "220                      62.0                  456.0                 850.00   \n",
       "221                      73.0                    NaN                 911.00   \n",
       "222                      51.0                    NaN                 885.00   \n",
       "\n",
       "indicator  JODI_demand_AUSTRIA  JODI_demand_AZERBAIJAN  JODI_demand_BAHRAIN  \\\n",
       "0                       254.93                    53.0                  NaN   \n",
       "1                       235.16                    65.0                  NaN   \n",
       "2                       246.88                    58.0                  NaN   \n",
       "3                       253.45                    55.0                  NaN   \n",
       "4                       235.16                    63.0                  NaN   \n",
       "..                         ...                     ...                  ...   \n",
       "218                     239.00                    99.0                 26.0   \n",
       "219                     208.00                    71.0                 41.0   \n",
       "220                     224.00                    87.0                 21.0   \n",
       "221                     244.00                    82.0                 29.0   \n",
       "222                        NaN                    86.0                 26.0   \n",
       "\n",
       "indicator  JODI_demand_BANGLADESH  ...  JODI_demand_TUNISIA  \\\n",
       "0                             NaN  ...                  NaN   \n",
       "1                             NaN  ...                  NaN   \n",
       "2                             NaN  ...                  NaN   \n",
       "3                             NaN  ...                  NaN   \n",
       "4                             NaN  ...                  NaN   \n",
       "..                            ...  ...                  ...   \n",
       "218                           NaN  ...                  NaN   \n",
       "219                           NaN  ...                  NaN   \n",
       "220                           NaN  ...                  NaN   \n",
       "221                           NaN  ...                  NaN   \n",
       "222                           NaN  ...                  NaN   \n",
       "\n",
       "indicator  JODI_demand_TURKEY  JODI_demand_UKRAINE  \\\n",
       "0                      650.68                  NaN   \n",
       "1                      626.25                  NaN   \n",
       "2                      633.12                  NaN   \n",
       "3                      540.43                  NaN   \n",
       "4                      631.86                  NaN   \n",
       "..                        ...                  ...   \n",
       "218                    911.00                184.0   \n",
       "219                    770.00                217.0   \n",
       "220                    704.00                211.0   \n",
       "221                    723.00                226.0   \n",
       "222                   1045.00                  NaN   \n",
       "\n",
       "indicator  JODI_demand_UNITED ARAB EMIRATES  JODI_demand_UNITED KINGDOM  \\\n",
       "0                                      95.0                     1577.14   \n",
       "1                                      87.0                     1665.33   \n",
       "2                                      83.0                     1693.08   \n",
       "3                                      86.0                     1632.74   \n",
       "4                                      95.0                     1627.18   \n",
       "..                                      ...                         ...   \n",
       "218                                     NaN                     1468.00   \n",
       "219                                     NaN                      781.00   \n",
       "220                                     NaN                      981.00   \n",
       "221                                     NaN                     1042.00   \n",
       "222                                     NaN                     1225.00   \n",
       "\n",
       "indicator  JODI_demand_UNITED STATES  JODI_demand_URUGUAY  \\\n",
       "0                           19453.45                 36.0   \n",
       "1                           19443.68                 43.0   \n",
       "2                           19676.32                 37.0   \n",
       "3                           19552.10                 41.0   \n",
       "4                           19728.26                 37.0   \n",
       "..                               ...                  ...   \n",
       "218                         18284.00                 34.0   \n",
       "219                         14733.70                  NaN   \n",
       "220                         14733.68                  NaN   \n",
       "221                         17727.77                  NaN   \n",
       "222                         18309.48                  NaN   \n",
       "\n",
       "indicator  JODI_demand_VENEZUELA, BOLIVARIAN REPUBLIC OF  \\\n",
       "0                                                    NaN   \n",
       "1                                                    NaN   \n",
       "2                                                    NaN   \n",
       "3                                                    NaN   \n",
       "4                                                    NaN   \n",
       "..                                                   ...   \n",
       "218                                                  NaN   \n",
       "219                                                  NaN   \n",
       "220                                                  NaN   \n",
       "221                                                  NaN   \n",
       "222                                                  NaN   \n",
       "\n",
       "indicator  JODI_demand_VIET NAM  JODI_demand_YEMEN  \n",
       "0                           NaN                NaN  \n",
       "1                           NaN                NaN  \n",
       "2                           NaN                NaN  \n",
       "3                           NaN                NaN  \n",
       "4                           NaN                NaN  \n",
       "..                          ...                ...  \n",
       "218                         NaN                NaN  \n",
       "219                         NaN                NaN  \n",
       "220                         NaN                NaN  \n",
       "221                         NaN                NaN  \n",
       "222                         NaN                NaN  \n",
       "\n",
       "[223 rows x 107 columns]"
      ],
      "text/html": "<div>\n<style scoped>\n    .dataframe tbody tr th:only-of-type {\n        vertical-align: middle;\n    }\n\n    .dataframe tbody tr th {\n        vertical-align: top;\n    }\n\n    .dataframe thead th {\n        text-align: right;\n    }\n</style>\n<table border=\"1\" class=\"dataframe\">\n  <thead>\n    <tr style=\"text-align: right;\">\n      <th>indicator</th>\n      <th>Date</th>\n      <th>jodi_demand_freq</th>\n      <th>JODI_demand_ALGERIA</th>\n      <th>JODI_demand_ANGOLA</th>\n      <th>JODI_demand_ARGENTINA</th>\n      <th>JODI_demand_AUSTRALIA</th>\n      <th>JODI_demand_AUSTRIA</th>\n      <th>JODI_demand_AZERBAIJAN</th>\n      <th>JODI_demand_BAHRAIN</th>\n      <th>JODI_demand_BANGLADESH</th>\n      <th>...</th>\n      <th>JODI_demand_TUNISIA</th>\n      <th>JODI_demand_TURKEY</th>\n      <th>JODI_demand_UKRAINE</th>\n      <th>JODI_demand_UNITED ARAB EMIRATES</th>\n      <th>JODI_demand_UNITED KINGDOM</th>\n      <th>JODI_demand_UNITED STATES</th>\n      <th>JODI_demand_URUGUAY</th>\n      <th>JODI_demand_VENEZUELA, BOLIVARIAN REPUBLIC OF</th>\n      <th>JODI_demand_VIET NAM</th>\n      <th>JODI_demand_YEMEN</th>\n    </tr>\n  </thead>\n  <tbody>\n    <tr>\n      <th>0</th>\n      <td>2002-01-31</td>\n      <td>m</td>\n      <td>114.0</td>\n      <td>NaN</td>\n      <td>296.0</td>\n      <td>767.41</td>\n      <td>254.93</td>\n      <td>53.0</td>\n      <td>NaN</td>\n      <td>NaN</td>\n      <td>...</td>\n      <td>NaN</td>\n      <td>650.68</td>\n      <td>NaN</td>\n      <td>95.0</td>\n      <td>1577.14</td>\n      <td>19453.45</td>\n      <td>36.0</td>\n      <td>NaN</td>\n      <td>NaN</td>\n      <td>NaN</td>\n    </tr>\n    <tr>\n      <th>1</th>\n      <td>2002-02-28</td>\n      <td>m</td>\n      <td>128.0</td>\n      <td>NaN</td>\n      <td>325.0</td>\n      <td>844.31</td>\n      <td>235.16</td>\n      <td>65.0</td>\n      <td>NaN</td>\n      <td>NaN</td>\n      <td>...</td>\n      <td>NaN</td>\n      <td>626.25</td>\n      <td>NaN</td>\n      <td>87.0</td>\n      <td>1665.33</td>\n      <td>19443.68</td>\n      <td>43.0</td>\n      <td>NaN</td>\n      <td>NaN</td>\n      <td>NaN</td>\n    </tr>\n    <tr>\n      <th>2</th>\n      <td>2002-03-31</td>\n      <td>m</td>\n      <td>125.0</td>\n      <td>NaN</td>\n      <td>320.0</td>\n      <td>782.58</td>\n      <td>246.88</td>\n      <td>58.0</td>\n      <td>NaN</td>\n      <td>NaN</td>\n      <td>...</td>\n      <td>NaN</td>\n      <td>633.12</td>\n      <td>NaN</td>\n      <td>83.0</td>\n      <td>1693.08</td>\n      <td>19676.32</td>\n      <td>37.0</td>\n      <td>NaN</td>\n      <td>NaN</td>\n      <td>NaN</td>\n    </tr>\n    <tr>\n      <th>3</th>\n      <td>2002-04-30</td>\n      <td>m</td>\n      <td>128.0</td>\n      <td>NaN</td>\n      <td>323.0</td>\n      <td>814.94</td>\n      <td>253.45</td>\n      <td>55.0</td>\n      <td>NaN</td>\n      <td>NaN</td>\n      <td>...</td>\n      <td>NaN</td>\n      <td>540.43</td>\n      <td>NaN</td>\n      <td>86.0</td>\n      <td>1632.74</td>\n      <td>19552.10</td>\n      <td>41.0</td>\n      <td>NaN</td>\n      <td>NaN</td>\n      <td>NaN</td>\n    </tr>\n    <tr>\n      <th>4</th>\n      <td>2002-05-31</td>\n      <td>m</td>\n      <td>120.0</td>\n      <td>NaN</td>\n      <td>344.0</td>\n      <td>801.55</td>\n      <td>235.16</td>\n      <td>63.0</td>\n      <td>NaN</td>\n      <td>NaN</td>\n      <td>...</td>\n      <td>NaN</td>\n      <td>631.86</td>\n      <td>NaN</td>\n      <td>95.0</td>\n      <td>1627.18</td>\n      <td>19728.26</td>\n      <td>37.0</td>\n      <td>NaN</td>\n      <td>NaN</td>\n      <td>NaN</td>\n    </tr>\n    <tr>\n      <th>...</th>\n      <td>...</td>\n      <td>...</td>\n      <td>...</td>\n      <td>...</td>\n      <td>...</td>\n      <td>...</td>\n      <td>...</td>\n      <td>...</td>\n      <td>...</td>\n      <td>...</td>\n      <td>...</td>\n      <td>...</td>\n      <td>...</td>\n      <td>...</td>\n      <td>...</td>\n      <td>...</td>\n      <td>...</td>\n      <td>...</td>\n      <td>...</td>\n      <td>...</td>\n      <td>...</td>\n    </tr>\n    <tr>\n      <th>218</th>\n      <td>2020-03-01</td>\n      <td>d</td>\n      <td>382.0</td>\n      <td>107.0</td>\n      <td>518.0</td>\n      <td>1047.00</td>\n      <td>239.00</td>\n      <td>99.0</td>\n      <td>26.0</td>\n      <td>NaN</td>\n      <td>...</td>\n      <td>NaN</td>\n      <td>911.00</td>\n      <td>184.0</td>\n      <td>NaN</td>\n      <td>1468.00</td>\n      <td>18284.00</td>\n      <td>34.0</td>\n      <td>NaN</td>\n      <td>NaN</td>\n      <td>NaN</td>\n    </tr>\n    <tr>\n      <th>219</th>\n      <td>2020-04-01</td>\n      <td>d</td>\n      <td>280.0</td>\n      <td>95.0</td>\n      <td>400.0</td>\n      <td>746.00</td>\n      <td>208.00</td>\n      <td>71.0</td>\n      <td>41.0</td>\n      <td>NaN</td>\n      <td>...</td>\n      <td>NaN</td>\n      <td>770.00</td>\n      <td>217.0</td>\n      <td>NaN</td>\n      <td>781.00</td>\n      <td>14733.70</td>\n      <td>NaN</td>\n      <td>NaN</td>\n      <td>NaN</td>\n      <td>NaN</td>\n    </tr>\n    <tr>\n      <th>220</th>\n      <td>2020-05-01</td>\n      <td>d</td>\n      <td>284.0</td>\n      <td>62.0</td>\n      <td>456.0</td>\n      <td>850.00</td>\n      <td>224.00</td>\n      <td>87.0</td>\n      <td>21.0</td>\n      <td>NaN</td>\n      <td>...</td>\n      <td>NaN</td>\n      <td>704.00</td>\n      <td>211.0</td>\n      <td>NaN</td>\n      <td>981.00</td>\n      <td>14733.68</td>\n      <td>NaN</td>\n      <td>NaN</td>\n      <td>NaN</td>\n      <td>NaN</td>\n    </tr>\n    <tr>\n      <th>221</th>\n      <td>2020-06-01</td>\n      <td>d</td>\n      <td>NaN</td>\n      <td>73.0</td>\n      <td>NaN</td>\n      <td>911.00</td>\n      <td>244.00</td>\n      <td>82.0</td>\n      <td>29.0</td>\n      <td>NaN</td>\n      <td>...</td>\n      <td>NaN</td>\n      <td>723.00</td>\n      <td>226.0</td>\n      <td>NaN</td>\n      <td>1042.00</td>\n      <td>17727.77</td>\n      <td>NaN</td>\n      <td>NaN</td>\n      <td>NaN</td>\n      <td>NaN</td>\n    </tr>\n    <tr>\n      <th>222</th>\n      <td>2020-07-01</td>\n      <td>d</td>\n      <td>356.0</td>\n      <td>51.0</td>\n      <td>NaN</td>\n      <td>885.00</td>\n      <td>NaN</td>\n      <td>86.0</td>\n      <td>26.0</td>\n      <td>NaN</td>\n      <td>...</td>\n      <td>NaN</td>\n      <td>1045.00</td>\n      <td>NaN</td>\n      <td>NaN</td>\n      <td>1225.00</td>\n      <td>18309.48</td>\n      <td>NaN</td>\n      <td>NaN</td>\n      <td>NaN</td>\n      <td>NaN</td>\n    </tr>\n  </tbody>\n</table>\n<p>223 rows × 107 columns</p>\n</div>"
     },
     "metadata": {},
     "execution_count": 7
    }
   ],
   "source": [
    "jodi_demand"
   ]
  },
  {
   "cell_type": "code",
   "execution_count": 8,
   "metadata": {},
   "outputs": [
    {
     "output_type": "execute_result",
     "data": {
      "text/plain": [
       "           Date  stock_closing_usd  sentiment_global_index  \\\n",
       "0    2010-01-01                NaN                     NaN   \n",
       "1    2010-01-02                NaN                     NaN   \n",
       "2    2010-01-03                NaN                     NaN   \n",
       "3    2010-01-04              69.15                     NaN   \n",
       "4    2010-01-05              69.42                     NaN   \n",
       "...         ...                ...                     ...   \n",
       "4072 2021-02-24              56.70                     NaN   \n",
       "4073 2021-02-25              55.76                    -0.3   \n",
       "4074 2021-02-26              54.37                     NaN   \n",
       "4075 2021-02-27                NaN                     NaN   \n",
       "4076 2021-02-28                NaN                     NaN   \n",
       "\n",
       "      sentiment_finance_index  DOW JONES COMPOSITE AVERAGE  \\\n",
       "0                         NaN                          NaN   \n",
       "1                         NaN                          NaN   \n",
       "2                         NaN                          NaN   \n",
       "3                         NaN                          NaN   \n",
       "4                         NaN                          NaN   \n",
       "...                       ...                          ...   \n",
       "4072                      NaN                     10547.40   \n",
       "4073                     -0.1                     10363.89   \n",
       "4074                     -0.2                     10231.46   \n",
       "4075                      NaN                          NaN   \n",
       "4076                      NaN                          NaN   \n",
       "\n",
       "      DOW JONES INDUSTRIAL AVERAGE  DOW JONES TRANSPORTATION AVERAGE  \\\n",
       "0                              NaN                               NaN   \n",
       "1                              NaN                               NaN   \n",
       "2                              NaN                               NaN   \n",
       "3                             1.82                               NaN   \n",
       "4                             1.82                               NaN   \n",
       "...                            ...                               ...   \n",
       "4072                      31961.86                          13630.55   \n",
       "4073                      31402.01                          13372.26   \n",
       "4074                      30932.37                          13331.27   \n",
       "4075                           NaN                               NaN   \n",
       "4076                           NaN                               NaN   \n",
       "\n",
       "      DOW JONES UTILITY AVERAGE  S&P 500  ICE BRENT CRUDE OIL FUTURES  ...  \\\n",
       "0                           NaN      NaN                          NaN  ...   \n",
       "1                           NaN      NaN                          NaN  ...   \n",
       "2                           NaN      NaN                          NaN  ...   \n",
       "3                           NaN      NaN                        80.12  ...   \n",
       "4                           NaN      NaN                        80.59  ...   \n",
       "...                         ...      ...                          ...  ...   \n",
       "4072                     825.65  3925.43                        67.04  ...   \n",
       "4073                     814.39  3829.34                        66.88  ...   \n",
       "4074                     795.61  3811.15                        66.13  ...   \n",
       "4075                        NaN      NaN                          NaN  ...   \n",
       "4076                        NaN      NaN                          NaN  ...   \n",
       "\n",
       "      WALKING_UNITED STATES_WASHINGTON  WALKING_UNITED STATES_WEST VIRGINIA  \\\n",
       "0                                  NaN                                  NaN   \n",
       "1                                  NaN                                  NaN   \n",
       "2                                  NaN                                  NaN   \n",
       "3                                  NaN                                  NaN   \n",
       "4                                  NaN                                  NaN   \n",
       "...                                ...                                  ...   \n",
       "4072                            110.53                               120.06   \n",
       "4073                            108.97                               118.30   \n",
       "4074                            133.96                               132.28   \n",
       "4075                            146.26                               127.74   \n",
       "4076                            104.20                                89.33   \n",
       "\n",
       "     WALKING_UNITED STATES_WISCONSIN  WALKING_UNITED STATES_WYOMING  \\\n",
       "0                                NaN                            NaN   \n",
       "1                                NaN                            NaN   \n",
       "2                                NaN                            NaN   \n",
       "3                                NaN                            NaN   \n",
       "4                                NaN                            NaN   \n",
       "...                              ...                            ...   \n",
       "4072                          144.24                         181.79   \n",
       "4073                          153.26                         193.69   \n",
       "4074                          199.61                         216.29   \n",
       "4075                          235.83                         219.49   \n",
       "4076                          139.01                         176.29   \n",
       "\n",
       "      GROCERY AND PHARMACY PERCENT CHANGE FROM BASELINE  \\\n",
       "0                                                   NaN   \n",
       "1                                                   NaN   \n",
       "2                                                   NaN   \n",
       "3                                                   NaN   \n",
       "4                                                   NaN   \n",
       "...                                                 ...   \n",
       "4072                                          -5.017857   \n",
       "4073                                          -7.052632   \n",
       "4074                                          -9.228070   \n",
       "4075                                          -9.280702   \n",
       "4076                                          -9.192308   \n",
       "\n",
       "      PARKS PERCENT CHANGE FROM BASELINE  \\\n",
       "0                                    NaN   \n",
       "1                                    NaN   \n",
       "2                                    NaN   \n",
       "3                                    NaN   \n",
       "4                                    NaN   \n",
       "...                                  ...   \n",
       "4072                            1.727273   \n",
       "4073                           -4.520000   \n",
       "4074                            0.357143   \n",
       "4075                            1.689655   \n",
       "4076                           -7.068966   \n",
       "\n",
       "      RESIDENTIAL PERCENT CHANGE FROM BASELINE  \\\n",
       "0                                          NaN   \n",
       "1                                          NaN   \n",
       "2                                          NaN   \n",
       "3                                          NaN   \n",
       "4                                          NaN   \n",
       "...                                        ...   \n",
       "4072                                  9.901639   \n",
       "4073                                  9.688525   \n",
       "4074                                 10.516667   \n",
       "4075                                  5.924528   \n",
       "4076                                  4.787234   \n",
       "\n",
       "      RETAIL AND RECREATION PERECENT CHANGE FROM BASELINE  \\\n",
       "0                                                   NaN     \n",
       "1                                                   NaN     \n",
       "2                                                   NaN     \n",
       "3                                                   NaN     \n",
       "4                                                   NaN     \n",
       "...                                                 ...     \n",
       "4072                                         -15.596491     \n",
       "4073                                         -17.224138     \n",
       "4074                                         -20.083333     \n",
       "4075                                         -17.033333     \n",
       "4076                                         -15.052632     \n",
       "\n",
       "      TRANSIT STATIONS PERCENT CHANGE FROM BASELINE  \\\n",
       "0                                               NaN   \n",
       "1                                               NaN   \n",
       "2                                               NaN   \n",
       "3                                               NaN   \n",
       "4                                               NaN   \n",
       "...                                             ...   \n",
       "4072                                     -32.545455   \n",
       "4073                                     -32.176471   \n",
       "4074                                     -32.828571   \n",
       "4075                                     -32.343750   \n",
       "4076                                     -32.266667   \n",
       "\n",
       "      WORKPLACES PERCENT CHANGE FROM BASELINE  \n",
       "0                                         NaN  \n",
       "1                                         NaN  \n",
       "2                                         NaN  \n",
       "3                                         NaN  \n",
       "4                                         NaN  \n",
       "...                                       ...  \n",
       "4072                               -28.145161  \n",
       "4073                               -26.790323  \n",
       "4074                               -26.612903  \n",
       "4075                               -12.629032  \n",
       "4076                               -12.629032  \n",
       "\n",
       "[4077 rows x 286 columns]"
      ],
      "text/html": "<div>\n<style scoped>\n    .dataframe tbody tr th:only-of-type {\n        vertical-align: middle;\n    }\n\n    .dataframe tbody tr th {\n        vertical-align: top;\n    }\n\n    .dataframe thead th {\n        text-align: right;\n    }\n</style>\n<table border=\"1\" class=\"dataframe\">\n  <thead>\n    <tr style=\"text-align: right;\">\n      <th></th>\n      <th>Date</th>\n      <th>stock_closing_usd</th>\n      <th>sentiment_global_index</th>\n      <th>sentiment_finance_index</th>\n      <th>DOW JONES COMPOSITE AVERAGE</th>\n      <th>DOW JONES INDUSTRIAL AVERAGE</th>\n      <th>DOW JONES TRANSPORTATION AVERAGE</th>\n      <th>DOW JONES UTILITY AVERAGE</th>\n      <th>S&amp;P 500</th>\n      <th>ICE BRENT CRUDE OIL FUTURES</th>\n      <th>...</th>\n      <th>WALKING_UNITED STATES_WASHINGTON</th>\n      <th>WALKING_UNITED STATES_WEST VIRGINIA</th>\n      <th>WALKING_UNITED STATES_WISCONSIN</th>\n      <th>WALKING_UNITED STATES_WYOMING</th>\n      <th>GROCERY AND PHARMACY PERCENT CHANGE FROM BASELINE</th>\n      <th>PARKS PERCENT CHANGE FROM BASELINE</th>\n      <th>RESIDENTIAL PERCENT CHANGE FROM BASELINE</th>\n      <th>RETAIL AND RECREATION PERECENT CHANGE FROM BASELINE</th>\n      <th>TRANSIT STATIONS PERCENT CHANGE FROM BASELINE</th>\n      <th>WORKPLACES PERCENT CHANGE FROM BASELINE</th>\n    </tr>\n  </thead>\n  <tbody>\n    <tr>\n      <th>0</th>\n      <td>2010-01-01</td>\n      <td>NaN</td>\n      <td>NaN</td>\n      <td>NaN</td>\n      <td>NaN</td>\n      <td>NaN</td>\n      <td>NaN</td>\n      <td>NaN</td>\n      <td>NaN</td>\n      <td>NaN</td>\n      <td>...</td>\n      <td>NaN</td>\n      <td>NaN</td>\n      <td>NaN</td>\n      <td>NaN</td>\n      <td>NaN</td>\n      <td>NaN</td>\n      <td>NaN</td>\n      <td>NaN</td>\n      <td>NaN</td>\n      <td>NaN</td>\n    </tr>\n    <tr>\n      <th>1</th>\n      <td>2010-01-02</td>\n      <td>NaN</td>\n      <td>NaN</td>\n      <td>NaN</td>\n      <td>NaN</td>\n      <td>NaN</td>\n      <td>NaN</td>\n      <td>NaN</td>\n      <td>NaN</td>\n      <td>NaN</td>\n      <td>...</td>\n      <td>NaN</td>\n      <td>NaN</td>\n      <td>NaN</td>\n      <td>NaN</td>\n      <td>NaN</td>\n      <td>NaN</td>\n      <td>NaN</td>\n      <td>NaN</td>\n      <td>NaN</td>\n      <td>NaN</td>\n    </tr>\n    <tr>\n      <th>2</th>\n      <td>2010-01-03</td>\n      <td>NaN</td>\n      <td>NaN</td>\n      <td>NaN</td>\n      <td>NaN</td>\n      <td>NaN</td>\n      <td>NaN</td>\n      <td>NaN</td>\n      <td>NaN</td>\n      <td>NaN</td>\n      <td>...</td>\n      <td>NaN</td>\n      <td>NaN</td>\n      <td>NaN</td>\n      <td>NaN</td>\n      <td>NaN</td>\n      <td>NaN</td>\n      <td>NaN</td>\n      <td>NaN</td>\n      <td>NaN</td>\n      <td>NaN</td>\n    </tr>\n    <tr>\n      <th>3</th>\n      <td>2010-01-04</td>\n      <td>69.15</td>\n      <td>NaN</td>\n      <td>NaN</td>\n      <td>NaN</td>\n      <td>1.82</td>\n      <td>NaN</td>\n      <td>NaN</td>\n      <td>NaN</td>\n      <td>80.12</td>\n      <td>...</td>\n      <td>NaN</td>\n      <td>NaN</td>\n      <td>NaN</td>\n      <td>NaN</td>\n      <td>NaN</td>\n      <td>NaN</td>\n      <td>NaN</td>\n      <td>NaN</td>\n      <td>NaN</td>\n      <td>NaN</td>\n    </tr>\n    <tr>\n      <th>4</th>\n      <td>2010-01-05</td>\n      <td>69.42</td>\n      <td>NaN</td>\n      <td>NaN</td>\n      <td>NaN</td>\n      <td>1.82</td>\n      <td>NaN</td>\n      <td>NaN</td>\n      <td>NaN</td>\n      <td>80.59</td>\n      <td>...</td>\n      <td>NaN</td>\n      <td>NaN</td>\n      <td>NaN</td>\n      <td>NaN</td>\n      <td>NaN</td>\n      <td>NaN</td>\n      <td>NaN</td>\n      <td>NaN</td>\n      <td>NaN</td>\n      <td>NaN</td>\n    </tr>\n    <tr>\n      <th>...</th>\n      <td>...</td>\n      <td>...</td>\n      <td>...</td>\n      <td>...</td>\n      <td>...</td>\n      <td>...</td>\n      <td>...</td>\n      <td>...</td>\n      <td>...</td>\n      <td>...</td>\n      <td>...</td>\n      <td>...</td>\n      <td>...</td>\n      <td>...</td>\n      <td>...</td>\n      <td>...</td>\n      <td>...</td>\n      <td>...</td>\n      <td>...</td>\n      <td>...</td>\n      <td>...</td>\n    </tr>\n    <tr>\n      <th>4072</th>\n      <td>2021-02-24</td>\n      <td>56.70</td>\n      <td>NaN</td>\n      <td>NaN</td>\n      <td>10547.40</td>\n      <td>31961.86</td>\n      <td>13630.55</td>\n      <td>825.65</td>\n      <td>3925.43</td>\n      <td>67.04</td>\n      <td>...</td>\n      <td>110.53</td>\n      <td>120.06</td>\n      <td>144.24</td>\n      <td>181.79</td>\n      <td>-5.017857</td>\n      <td>1.727273</td>\n      <td>9.901639</td>\n      <td>-15.596491</td>\n      <td>-32.545455</td>\n      <td>-28.145161</td>\n    </tr>\n    <tr>\n      <th>4073</th>\n      <td>2021-02-25</td>\n      <td>55.76</td>\n      <td>-0.3</td>\n      <td>-0.1</td>\n      <td>10363.89</td>\n      <td>31402.01</td>\n      <td>13372.26</td>\n      <td>814.39</td>\n      <td>3829.34</td>\n      <td>66.88</td>\n      <td>...</td>\n      <td>108.97</td>\n      <td>118.30</td>\n      <td>153.26</td>\n      <td>193.69</td>\n      <td>-7.052632</td>\n      <td>-4.520000</td>\n      <td>9.688525</td>\n      <td>-17.224138</td>\n      <td>-32.176471</td>\n      <td>-26.790323</td>\n    </tr>\n    <tr>\n      <th>4074</th>\n      <td>2021-02-26</td>\n      <td>54.37</td>\n      <td>NaN</td>\n      <td>-0.2</td>\n      <td>10231.46</td>\n      <td>30932.37</td>\n      <td>13331.27</td>\n      <td>795.61</td>\n      <td>3811.15</td>\n      <td>66.13</td>\n      <td>...</td>\n      <td>133.96</td>\n      <td>132.28</td>\n      <td>199.61</td>\n      <td>216.29</td>\n      <td>-9.228070</td>\n      <td>0.357143</td>\n      <td>10.516667</td>\n      <td>-20.083333</td>\n      <td>-32.828571</td>\n      <td>-26.612903</td>\n    </tr>\n    <tr>\n      <th>4075</th>\n      <td>2021-02-27</td>\n      <td>NaN</td>\n      <td>NaN</td>\n      <td>NaN</td>\n      <td>NaN</td>\n      <td>NaN</td>\n      <td>NaN</td>\n      <td>NaN</td>\n      <td>NaN</td>\n      <td>NaN</td>\n      <td>...</td>\n      <td>146.26</td>\n      <td>127.74</td>\n      <td>235.83</td>\n      <td>219.49</td>\n      <td>-9.280702</td>\n      <td>1.689655</td>\n      <td>5.924528</td>\n      <td>-17.033333</td>\n      <td>-32.343750</td>\n      <td>-12.629032</td>\n    </tr>\n    <tr>\n      <th>4076</th>\n      <td>2021-02-28</td>\n      <td>NaN</td>\n      <td>NaN</td>\n      <td>NaN</td>\n      <td>NaN</td>\n      <td>NaN</td>\n      <td>NaN</td>\n      <td>NaN</td>\n      <td>NaN</td>\n      <td>NaN</td>\n      <td>...</td>\n      <td>104.20</td>\n      <td>89.33</td>\n      <td>139.01</td>\n      <td>176.29</td>\n      <td>-9.192308</td>\n      <td>-7.068966</td>\n      <td>4.787234</td>\n      <td>-15.052632</td>\n      <td>-32.266667</td>\n      <td>-12.629032</td>\n    </tr>\n  </tbody>\n</table>\n<p>4077 rows × 286 columns</p>\n</div>"
     },
     "metadata": {},
     "execution_count": 8
    }
   ],
   "source": [
    "# merge data\n",
    "data = pd.merge(data, stock, on = ['Date'], how='left')\n",
    "data = pd.merge(data, sentiment_global, on = ['Date'], how='left')\n",
    "data = pd.merge(data, sentiment_finance, on = ['Date'], how='left')\n",
    "data = pd.merge(data, stock_index, on = ['Date'], how='left')\n",
    "data = pd.merge(data, price_commodity, on = ['Date'], how='left')\n",
    "data = pd.merge(data, interest_rate, on = ['Date'], how='left')\n",
    "data = pd.merge(data, inventory_outlook, on = ['Date'], how='left')\n",
    "data = pd.merge(data, jodi_demand, on = ['Date'], how='left')\n",
    "data = pd.merge(data, mobility_apple, on = ['Date'], how='left')\n",
    "data = pd.merge(data, mobility_google, on = ['Date'], how='left')\n",
    "data"
   ]
  },
  {
   "cell_type": "code",
   "execution_count": 9,
   "metadata": {},
   "outputs": [],
   "source": [
    "data.to_csv('../data/data_2010_2021.csv', index=False)"
   ]
  },
  {
   "cell_type": "code",
   "execution_count": 47,
   "metadata": {},
   "outputs": [
    {
     "output_type": "execute_result",
     "data": {
      "text/plain": [
       "WORKPLACES PERCENT CHANGE FROM BASELINE                387\n",
       "PARKS PERCENT CHANGE FROM BASELINE                     387\n",
       "RETAIL AND RECREATION PERECENT CHANGE FROM BASELINE    387\n",
       "RESIDENTIAL PERCENT CHANGE FROM BASELINE               387\n",
       "GROCERY AND PHARMACY PERCENT CHANGE FROM BASELINE      387\n",
       "TRANSIT STATIONS PERCENT CHANGE FROM BASELINE          387\n",
       "Name: Indicator, dtype: int64"
      ]
     },
     "metadata": {},
     "execution_count": 47
    }
   ],
   "source": [
    "mobility_google_ori = mobility_google_ori.groupby(['Date','Indicator'])['Value'].agg('mean').reset_index()\n",
    "mobility_google_ori"
   ]
  },
  {
   "cell_type": "code",
   "execution_count": 13,
   "metadata": {},
   "outputs": [
    {
     "output_type": "execute_result",
     "data": {
      "text/plain": [
       "array(['TRANSIT STATIONS PERCENT CHANGE FROM BASELINE',\n",
       "       'RESIDENTIAL PERCENT CHANGE FROM BASELINE',\n",
       "       'PARKS PERCENT CHANGE FROM BASELINE',\n",
       "       'GROCERY AND PHARMACY PERCENT CHANGE FROM BASELINE',\n",
       "       'WORKPLACES PERCENT CHANGE FROM BASELINE',\n",
       "       'RETAIL AND RECREATION PERECENT CHANGE FROM BASELINE'],\n",
       "      dtype=object)"
      ]
     },
     "metadata": {},
     "execution_count": 13
    }
   ],
   "source": [
    "mobility_google_ori.Indicator.unique()"
   ]
  },
  {
   "cell_type": "code",
   "execution_count": 13,
   "metadata": {},
   "outputs": [
    {
     "output_type": "execute_result",
     "data": {
      "text/plain": [
       "Index(['Date', 'CRUDE OIL AND LIQUID FUELS SUPPLY_MILLION BARRELS PER DAY',\n",
       "       'CRUDE OIL INVENTORY (EXCLUDING SPR)_MILLION BARRELS, END-OF-PERIOD',\n",
       "       'IMPORTED  CRUDE OIL REAL PRICE_REAL DOLLARS PER BARREL',\n",
       "       'OPEC TOTAL CRUDE OIL PRODUCTION CAPACITY_MILLION BARRELS PER DAY',\n",
       "       'U.S. CRUDE OIL PRODUCTION_MILLION BARRELS PER DAY'],\n",
       "      dtype='object', name='sector_unit')"
      ]
     },
     "metadata": {},
     "execution_count": 13
    }
   ],
   "source": [
    "# inventory_outlook = pd.read_csv(path_inventory_outlook, parse_dates=['Date Value']).rename(columns={'Date Value':'Date'})\n",
    "inventory_outlook.columns"
   ]
  },
  {
   "cell_type": "code",
   "execution_count": null,
   "metadata": {},
   "outputs": [],
   "source": []
  }
 ]
}