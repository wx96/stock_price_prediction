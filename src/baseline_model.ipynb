{
 "metadata": {
  "language_info": {
   "codemirror_mode": {
    "name": "ipython",
    "version": 3
   },
   "file_extension": ".py",
   "mimetype": "text/x-python",
   "name": "python",
   "nbconvert_exporter": "python",
   "pygments_lexer": "ipython3",
   "version": "3.7.3-final"
  },
  "orig_nbformat": 2,
  "kernelspec": {
   "name": "python3",
   "display_name": "Python 3.7.3 64-bit (conda)",
   "metadata": {
    "interpreter": {
     "hash": "12d97fcee38ab8920190a90bce14ec7ccb9df672937f2d1454d10b81de6741b2"
    }
   }
  }
 },
 "nbformat": 4,
 "nbformat_minor": 2,
 "cells": [
  {
   "cell_type": "code",
   "execution_count": 1,
   "metadata": {},
   "outputs": [],
   "source": [
    "import pandas as pd\n",
    "\n",
    "from sklearn import preprocessing\n",
    "from sklearn.model_selection import train_test_split\n",
    "from sklearn.linear_model import LinearRegression\n",
    "from sklearn.tree import DecisionTreeRegressor\n",
    "from sklearn.ensemble import RandomForestRegressor\n",
    "from sklearn.ensemble import GradientBoostingRegressor\n",
    "from sklearn.experimental import enable_hist_gradient_boosting \n",
    "from sklearn.ensemble import HistGradientBoostingRegressor # faster than GradientBoostingRegressor\n",
    "from sklearn.metrics import mean_squared_error\n",
    "\n",
    "from xgboost import XGBRegressor\n",
    "from lightgbm import LGBMRegressor\n",
    "from catboost import CatBoostRegressor"
   ]
  },
  {
   "cell_type": "code",
   "execution_count": 2,
   "metadata": {},
   "outputs": [
    {
     "output_type": "stream",
     "name": "stdout",
     "text": [
      "(1291, 597)\nJODI_demand_HAITI              1291\nJODI_demand_GRENADA            1291\nJODI_demand_SURINAME           1291\nJODI_demand_BANGLADESH         1291\nJODI_demand_PARAGUAY           1291\n                               ... \nS&P 500                           9\nNYMEX CRUDE OIL FUTURES           9\nNYMEX RBOB GASOLINE FUTURES       9\nstock_closing_usd                 0\nDate                              0\nLength: 597, dtype: int64\n"
     ]
    },
    {
     "output_type": "execute_result",
     "data": {
      "text/plain": [
       "            Date  stock_closing_usd  sentiment_global_index  \\\n",
       "2194  2016-01-04              77.46                     NaN   \n",
       "2195  2016-01-05              78.12                     NaN   \n",
       "\n",
       "      sentiment_finance_index  DOW JONES COMPOSITE AVERAGE  \\\n",
       "2194                      NaN                      5890.29   \n",
       "2195                      NaN                      5900.51   \n",
       "\n",
       "      DOW JONES INDUSTRIAL AVERAGE  DOW JONES TRANSPORTATION AVERAGE  \\\n",
       "2194                      17148.94                           7352.59   \n",
       "2195                      17158.66                           7363.95   \n",
       "\n",
       "      DOW JONES UTILITY AVERAGE  S&P 500  ICE BRENT CRUDE OIL FUTURES  ...  \\\n",
       "2194                     577.48  2012.66                        37.22  ...   \n",
       "2195                     580.97  2016.71                        36.42  ...   \n",
       "\n",
       "      WORKPLACES PERCENT CHANGE FROM BASELINE_NEW YORK_SULLIVAN COUNTY  \\\n",
       "2194                                                NaN                  \n",
       "2195                                                NaN                  \n",
       "\n",
       "      WORKPLACES PERCENT CHANGE FROM BASELINE_NEW YORK_TIOGA COUNTY  \\\n",
       "2194                                                NaN               \n",
       "2195                                                NaN               \n",
       "\n",
       "     WORKPLACES PERCENT CHANGE FROM BASELINE_NEW YORK_TOMPKINS COUNTY  \\\n",
       "2194                                                NaN                 \n",
       "2195                                                NaN                 \n",
       "\n",
       "      WORKPLACES PERCENT CHANGE FROM BASELINE_NEW YORK_ULSTER COUNTY  \\\n",
       "2194                                                NaN                \n",
       "2195                                                NaN                \n",
       "\n",
       "      WORKPLACES PERCENT CHANGE FROM BASELINE_NEW YORK_WARREN COUNTY  \\\n",
       "2194                                                NaN                \n",
       "2195                                                NaN                \n",
       "\n",
       "      WORKPLACES PERCENT CHANGE FROM BASELINE_NEW YORK_WASHINGTON COUNTY  \\\n",
       "2194                                                NaN                    \n",
       "2195                                                NaN                    \n",
       "\n",
       "      WORKPLACES PERCENT CHANGE FROM BASELINE_NEW YORK_WAYNE COUNTY  \\\n",
       "2194                                                NaN               \n",
       "2195                                                NaN               \n",
       "\n",
       "      WORKPLACES PERCENT CHANGE FROM BASELINE_NEW YORK_WESTCHESTER COUNTY  \\\n",
       "2194                                                NaN                     \n",
       "2195                                                NaN                     \n",
       "\n",
       "      WORKPLACES PERCENT CHANGE FROM BASELINE_NEW YORK_WYOMING COUNTY  \\\n",
       "2194                                                NaN                 \n",
       "2195                                                NaN                 \n",
       "\n",
       "      WORKPLACES PERCENT CHANGE FROM BASELINE_NEW YORK_YATES COUNTY  \n",
       "2194                                                NaN              \n",
       "2195                                                NaN              \n",
       "\n",
       "[2 rows x 597 columns]"
      ],
      "text/html": "<div>\n<style scoped>\n    .dataframe tbody tr th:only-of-type {\n        vertical-align: middle;\n    }\n\n    .dataframe tbody tr th {\n        vertical-align: top;\n    }\n\n    .dataframe thead th {\n        text-align: right;\n    }\n</style>\n<table border=\"1\" class=\"dataframe\">\n  <thead>\n    <tr style=\"text-align: right;\">\n      <th></th>\n      <th>Date</th>\n      <th>stock_closing_usd</th>\n      <th>sentiment_global_index</th>\n      <th>sentiment_finance_index</th>\n      <th>DOW JONES COMPOSITE AVERAGE</th>\n      <th>DOW JONES INDUSTRIAL AVERAGE</th>\n      <th>DOW JONES TRANSPORTATION AVERAGE</th>\n      <th>DOW JONES UTILITY AVERAGE</th>\n      <th>S&amp;P 500</th>\n      <th>ICE BRENT CRUDE OIL FUTURES</th>\n      <th>...</th>\n      <th>WORKPLACES PERCENT CHANGE FROM BASELINE_NEW YORK_SULLIVAN COUNTY</th>\n      <th>WORKPLACES PERCENT CHANGE FROM BASELINE_NEW YORK_TIOGA COUNTY</th>\n      <th>WORKPLACES PERCENT CHANGE FROM BASELINE_NEW YORK_TOMPKINS COUNTY</th>\n      <th>WORKPLACES PERCENT CHANGE FROM BASELINE_NEW YORK_ULSTER COUNTY</th>\n      <th>WORKPLACES PERCENT CHANGE FROM BASELINE_NEW YORK_WARREN COUNTY</th>\n      <th>WORKPLACES PERCENT CHANGE FROM BASELINE_NEW YORK_WASHINGTON COUNTY</th>\n      <th>WORKPLACES PERCENT CHANGE FROM BASELINE_NEW YORK_WAYNE COUNTY</th>\n      <th>WORKPLACES PERCENT CHANGE FROM BASELINE_NEW YORK_WESTCHESTER COUNTY</th>\n      <th>WORKPLACES PERCENT CHANGE FROM BASELINE_NEW YORK_WYOMING COUNTY</th>\n      <th>WORKPLACES PERCENT CHANGE FROM BASELINE_NEW YORK_YATES COUNTY</th>\n    </tr>\n  </thead>\n  <tbody>\n    <tr>\n      <th>2194</th>\n      <td>2016-01-04</td>\n      <td>77.46</td>\n      <td>NaN</td>\n      <td>NaN</td>\n      <td>5890.29</td>\n      <td>17148.94</td>\n      <td>7352.59</td>\n      <td>577.48</td>\n      <td>2012.66</td>\n      <td>37.22</td>\n      <td>...</td>\n      <td>NaN</td>\n      <td>NaN</td>\n      <td>NaN</td>\n      <td>NaN</td>\n      <td>NaN</td>\n      <td>NaN</td>\n      <td>NaN</td>\n      <td>NaN</td>\n      <td>NaN</td>\n      <td>NaN</td>\n    </tr>\n    <tr>\n      <th>2195</th>\n      <td>2016-01-05</td>\n      <td>78.12</td>\n      <td>NaN</td>\n      <td>NaN</td>\n      <td>5900.51</td>\n      <td>17158.66</td>\n      <td>7363.95</td>\n      <td>580.97</td>\n      <td>2016.71</td>\n      <td>36.42</td>\n      <td>...</td>\n      <td>NaN</td>\n      <td>NaN</td>\n      <td>NaN</td>\n      <td>NaN</td>\n      <td>NaN</td>\n      <td>NaN</td>\n      <td>NaN</td>\n      <td>NaN</td>\n      <td>NaN</td>\n      <td>NaN</td>\n    </tr>\n  </tbody>\n</table>\n<p>2 rows × 597 columns</p>\n</div>"
     },
     "metadata": {},
     "execution_count": 2
    }
   ],
   "source": [
    "data = pd.read_csv('../data/data_2010_2021.csv', parse_dates=True)\n",
    "data = data[data.Date>='2016-01-01']\n",
    "data = data[~data.stock_closing_usd.isna()]\n",
    "print(data.shape)\n",
    "print(data.isnull().sum().sort_values(0, ascending=False))\n",
    "data.head(2)"
   ]
  },
  {
   "cell_type": "code",
   "execution_count": 3,
   "metadata": {},
   "outputs": [
    {
     "output_type": "stream",
     "name": "stdout",
     "text": [
      "['DOW JONES TRANSPORTATION AVERAGE', 'DOW JONES COMPOSITE AVERAGE', 'DOW JONES INDUSTRIAL AVERAGE', 'ICE BRENT CRUDE OIL FUTURES', 'DOW JONES UTILITY AVERAGE', 'S&P 500', 'NYMEX CRUDE OIL FUTURES', 'NYMEX RBOB GASOLINE FUTURES', 'stock_closing_usd', 'Date']\n(1291, 10)\n"
     ]
    },
    {
     "output_type": "execute_result",
     "data": {
      "text/plain": [
       "      DOW JONES TRANSPORTATION AVERAGE  DOW JONES COMPOSITE AVERAGE  \\\n",
       "2194                           7352.59                      5890.29   \n",
       "2195                           7363.95                      5900.51   \n",
       "\n",
       "      DOW JONES INDUSTRIAL AVERAGE  ICE BRENT CRUDE OIL FUTURES  \\\n",
       "2194                      17148.94                        37.22   \n",
       "2195                      17158.66                        36.42   \n",
       "\n",
       "      DOW JONES UTILITY AVERAGE  S&P 500  NYMEX CRUDE OIL FUTURES  \\\n",
       "2194                     577.48  2012.66                    36.76   \n",
       "2195                     580.97  2016.71                    35.97   \n",
       "\n",
       "      NYMEX RBOB GASOLINE FUTURES  stock_closing_usd        Date  \n",
       "2194                         1.29              77.46  2016-01-04  \n",
       "2195                         1.26              78.12  2016-01-05  "
      ],
      "text/html": "<div>\n<style scoped>\n    .dataframe tbody tr th:only-of-type {\n        vertical-align: middle;\n    }\n\n    .dataframe tbody tr th {\n        vertical-align: top;\n    }\n\n    .dataframe thead th {\n        text-align: right;\n    }\n</style>\n<table border=\"1\" class=\"dataframe\">\n  <thead>\n    <tr style=\"text-align: right;\">\n      <th></th>\n      <th>DOW JONES TRANSPORTATION AVERAGE</th>\n      <th>DOW JONES COMPOSITE AVERAGE</th>\n      <th>DOW JONES INDUSTRIAL AVERAGE</th>\n      <th>ICE BRENT CRUDE OIL FUTURES</th>\n      <th>DOW JONES UTILITY AVERAGE</th>\n      <th>S&amp;P 500</th>\n      <th>NYMEX CRUDE OIL FUTURES</th>\n      <th>NYMEX RBOB GASOLINE FUTURES</th>\n      <th>stock_closing_usd</th>\n      <th>Date</th>\n    </tr>\n  </thead>\n  <tbody>\n    <tr>\n      <th>2194</th>\n      <td>7352.59</td>\n      <td>5890.29</td>\n      <td>17148.94</td>\n      <td>37.22</td>\n      <td>577.48</td>\n      <td>2012.66</td>\n      <td>36.76</td>\n      <td>1.29</td>\n      <td>77.46</td>\n      <td>2016-01-04</td>\n    </tr>\n    <tr>\n      <th>2195</th>\n      <td>7363.95</td>\n      <td>5900.51</td>\n      <td>17158.66</td>\n      <td>36.42</td>\n      <td>580.97</td>\n      <td>2016.71</td>\n      <td>35.97</td>\n      <td>1.26</td>\n      <td>78.12</td>\n      <td>2016-01-05</td>\n    </tr>\n  </tbody>\n</table>\n</div>"
     },
     "metadata": {},
     "execution_count": 3
    }
   ],
   "source": [
    "feature = data.isnull().sum().sort_values(0, ascending=False).tail(10).index.to_list()\n",
    "print(feature)\n",
    "\n",
    "data_subset = data[feature]\n",
    "print(data_subset.shape)\n",
    "data_subset.head(2)"
   ]
  },
  {
   "cell_type": "code",
   "execution_count": 4,
   "metadata": {},
   "outputs": [],
   "source": [
    "# # forward fill the na data\n",
    "# data_subset = data_subset.ffill()\n",
    "# data_subset.isnull().sum()\n",
    "# data_subset[data_subset.Date>'2020-02-27'].head(15)\n",
    "\n",
    "# # drop na\n",
    "data_subset = data_subset.dropna()"
   ]
  },
  {
   "cell_type": "code",
   "execution_count": 5,
   "metadata": {},
   "outputs": [
    {
     "output_type": "execute_result",
     "data": {
      "text/plain": [
       "       DOW JONES TRANSPORTATION AVERAGE  DOW JONES COMPOSITE AVERAGE  \\\n",
       "count                       1282.000000                  1282.000000   \n",
       "mean                        9851.123261                  8017.955499   \n",
       "std                         1389.554011                  1138.236432   \n",
       "min                         6625.530000                  5466.870000   \n",
       "25%                         9086.255000                  7187.562500   \n",
       "50%                        10064.395000                  8243.175000   \n",
       "75%                        10776.502500                  8774.637500   \n",
       "max                        13630.550000                 10547.400000   \n",
       "\n",
       "       DOW JONES INDUSTRIAL AVERAGE  ICE BRENT CRUDE OIL FUTURES  \\\n",
       "count                   1282.000000                  1282.000000   \n",
       "mean                   23835.983549                    56.144727   \n",
       "std                     3842.769203                    12.531740   \n",
       "min                    15660.180000                    19.330000   \n",
       "25%                    20825.662500                    47.320000   \n",
       "50%                    24742.870000                    55.905000   \n",
       "75%                    26500.367500                    64.937500   \n",
       "max                    31961.860000                    86.290000   \n",
       "\n",
       "       DOW JONES UTILITY AVERAGE      S&P 500  NYMEX CRUDE OIL FUTURES  \\\n",
       "count                1282.000000  1282.000000              1282.000000   \n",
       "mean                  747.272917  2719.345164                51.554938   \n",
       "std                    79.165564   464.221124                11.143953   \n",
       "min                   577.480000  1829.080000               -37.630000   \n",
       "25%                   687.167500  2368.142500                45.330000   \n",
       "50%                   731.115000  2724.225000                51.900000   \n",
       "75%                   810.807500  2977.400000                58.580000   \n",
       "max                   960.890000  3934.830000                76.410000   \n",
       "\n",
       "       NYMEX RBOB GASOLINE FUTURES  stock_closing_usd  \n",
       "count                  1282.000000        1282.000000  \n",
       "mean                      1.582956          72.901217  \n",
       "std                       0.312019          15.951972  \n",
       "min                       0.410000          31.470000  \n",
       "25%                       1.400000          69.150000  \n",
       "50%                       1.590000          79.500000  \n",
       "75%                       1.770000          82.890000  \n",
       "max                       2.270000          95.120000  "
      ],
      "text/html": "<div>\n<style scoped>\n    .dataframe tbody tr th:only-of-type {\n        vertical-align: middle;\n    }\n\n    .dataframe tbody tr th {\n        vertical-align: top;\n    }\n\n    .dataframe thead th {\n        text-align: right;\n    }\n</style>\n<table border=\"1\" class=\"dataframe\">\n  <thead>\n    <tr style=\"text-align: right;\">\n      <th></th>\n      <th>DOW JONES TRANSPORTATION AVERAGE</th>\n      <th>DOW JONES COMPOSITE AVERAGE</th>\n      <th>DOW JONES INDUSTRIAL AVERAGE</th>\n      <th>ICE BRENT CRUDE OIL FUTURES</th>\n      <th>DOW JONES UTILITY AVERAGE</th>\n      <th>S&amp;P 500</th>\n      <th>NYMEX CRUDE OIL FUTURES</th>\n      <th>NYMEX RBOB GASOLINE FUTURES</th>\n      <th>stock_closing_usd</th>\n    </tr>\n  </thead>\n  <tbody>\n    <tr>\n      <th>count</th>\n      <td>1282.000000</td>\n      <td>1282.000000</td>\n      <td>1282.000000</td>\n      <td>1282.000000</td>\n      <td>1282.000000</td>\n      <td>1282.000000</td>\n      <td>1282.000000</td>\n      <td>1282.000000</td>\n      <td>1282.000000</td>\n    </tr>\n    <tr>\n      <th>mean</th>\n      <td>9851.123261</td>\n      <td>8017.955499</td>\n      <td>23835.983549</td>\n      <td>56.144727</td>\n      <td>747.272917</td>\n      <td>2719.345164</td>\n      <td>51.554938</td>\n      <td>1.582956</td>\n      <td>72.901217</td>\n    </tr>\n    <tr>\n      <th>std</th>\n      <td>1389.554011</td>\n      <td>1138.236432</td>\n      <td>3842.769203</td>\n      <td>12.531740</td>\n      <td>79.165564</td>\n      <td>464.221124</td>\n      <td>11.143953</td>\n      <td>0.312019</td>\n      <td>15.951972</td>\n    </tr>\n    <tr>\n      <th>min</th>\n      <td>6625.530000</td>\n      <td>5466.870000</td>\n      <td>15660.180000</td>\n      <td>19.330000</td>\n      <td>577.480000</td>\n      <td>1829.080000</td>\n      <td>-37.630000</td>\n      <td>0.410000</td>\n      <td>31.470000</td>\n    </tr>\n    <tr>\n      <th>25%</th>\n      <td>9086.255000</td>\n      <td>7187.562500</td>\n      <td>20825.662500</td>\n      <td>47.320000</td>\n      <td>687.167500</td>\n      <td>2368.142500</td>\n      <td>45.330000</td>\n      <td>1.400000</td>\n      <td>69.150000</td>\n    </tr>\n    <tr>\n      <th>50%</th>\n      <td>10064.395000</td>\n      <td>8243.175000</td>\n      <td>24742.870000</td>\n      <td>55.905000</td>\n      <td>731.115000</td>\n      <td>2724.225000</td>\n      <td>51.900000</td>\n      <td>1.590000</td>\n      <td>79.500000</td>\n    </tr>\n    <tr>\n      <th>75%</th>\n      <td>10776.502500</td>\n      <td>8774.637500</td>\n      <td>26500.367500</td>\n      <td>64.937500</td>\n      <td>810.807500</td>\n      <td>2977.400000</td>\n      <td>58.580000</td>\n      <td>1.770000</td>\n      <td>82.890000</td>\n    </tr>\n    <tr>\n      <th>max</th>\n      <td>13630.550000</td>\n      <td>10547.400000</td>\n      <td>31961.860000</td>\n      <td>86.290000</td>\n      <td>960.890000</td>\n      <td>3934.830000</td>\n      <td>76.410000</td>\n      <td>2.270000</td>\n      <td>95.120000</td>\n    </tr>\n  </tbody>\n</table>\n</div>"
     },
     "metadata": {},
     "execution_count": 5
    }
   ],
   "source": [
    "data_subset.describe()"
   ]
  },
  {
   "cell_type": "code",
   "execution_count": 6,
   "metadata": {},
   "outputs": [
    {
     "output_type": "execute_result",
     "data": {
      "text/plain": [
       "Index(['DOW JONES TRANSPORTATION AVERAGE', 'DOW JONES COMPOSITE AVERAGE',\n",
       "       'DOW JONES INDUSTRIAL AVERAGE', 'ICE BRENT CRUDE OIL FUTURES',\n",
       "       'DOW JONES UTILITY AVERAGE', 'S&P 500', 'NYMEX CRUDE OIL FUTURES',\n",
       "       'NYMEX RBOB GASOLINE FUTURES', 'stock_closing_usd', 'Date'],\n",
       "      dtype='object')"
      ]
     },
     "metadata": {},
     "execution_count": 6
    }
   ],
   "source": [
    "data_subset.columns"
   ]
  },
  {
   "cell_type": "code",
   "execution_count": 7,
   "metadata": {},
   "outputs": [
    {
     "output_type": "execute_result",
     "data": {
      "text/plain": [
       "array([[3.73642497e-01, 2.99331618e-01, 8.71471517e-01, ...,\n",
       "        1.02278967e-01, 1.86806257e-03, 6.55549706e-05],\n",
       "       [3.73910247e-01, 2.99602951e-01, 8.71244211e-01, ...,\n",
       "        1.02400007e-01, 1.82640452e-03, 6.39774729e-05],\n",
       "       [3.72153418e-01, 3.00056090e-01, 8.71798793e-01, ...,\n",
       "        1.02629476e-01, 1.75169240e-03, 5.98164021e-05],\n",
       "       ...,\n",
       "       [3.73096930e-01, 2.88704605e-01, 8.74863585e-01, ...,\n",
       "        1.07447306e-01, 1.73046487e-03, 5.20070112e-05],\n",
       "       [3.72654184e-01, 2.88817819e-01, 8.75101921e-01, ...,\n",
       "        1.06714914e-01, 1.77043524e-03, 5.26699606e-05],\n",
       "       [3.76405909e-01, 2.88883355e-01, 8.73369669e-01, ...,\n",
       "        1.07607106e-01, 1.73644097e-03, 5.30814476e-05]])"
      ]
     },
     "metadata": {},
     "execution_count": 7
    }
   ],
   "source": [
    "# normalize variables\n",
    "X = preprocessing.normalize(data_subset[['DOW JONES TRANSPORTATION AVERAGE', 'DOW JONES COMPOSITE AVERAGE',\n",
    "       'DOW JONES INDUSTRIAL AVERAGE', 'ICE BRENT CRUDE OIL FUTURES',\n",
    "       'DOW JONES UTILITY AVERAGE', 'S&P 500', 'NYMEX CRUDE OIL FUTURES',\n",
    "       'NYMEX RBOB GASOLINE FUTURES']])\n",
    "X"
   ]
  },
  {
   "cell_type": "code",
   "execution_count": 8,
   "metadata": {},
   "outputs": [
    {
     "output_type": "execute_result",
     "data": {
      "text/plain": [
       "2194    77.46\n",
       "2195    78.12\n",
       "2196    77.47\n",
       "2197    76.23\n",
       "2198    74.69\n",
       "        ...  \n",
       "4070    54.30\n",
       "4071    55.05\n",
       "4072    56.70\n",
       "4073    55.76\n",
       "4074    54.37\n",
       "Name: stock_closing_usd, Length: 1282, dtype: float64"
      ]
     },
     "metadata": {},
     "execution_count": 8
    }
   ],
   "source": [
    "y = data_subset['stock_closing_usd']\n",
    "y"
   ]
  },
  {
   "cell_type": "code",
   "execution_count": 9,
   "metadata": {},
   "outputs": [
    {
     "output_type": "stream",
     "name": "stdout",
     "text": [
      "(961, 8) (321, 8) (961,) (321,)\n"
     ]
    }
   ],
   "source": [
    "\n",
    "X_train, X_test, y_train, y_test = train_test_split(X, y, test_size=0.25, random_state=8675309)\n",
    "print(X_train.shape, X_test.shape, y_train.shape, y_test.shape)"
   ]
  },
  {
   "source": [
    "LR = LinearRegression().fit(X_train, y_train)\n",
    "DT = DecisionTreeRegressor().fit(X_train, y_train)\n",
    "RF = RandomForestRegressor().fit(X_train, y_train)\n",
    "GB = GradientBoostingRegressor().fit(X_train, y_train)\n",
    "HGB = HistGradientBoostingRegressor().fit(X_train, y_train)\n",
    "XGB = XGBRegressor().fit(X_train, y_train)\n",
    "LGBM = LGBMRegressor().fit(X_train, y_train)\n",
    "CB = CatBoostRegressor().fit(X_train, y_train)"
   ],
   "cell_type": "code",
   "metadata": {
    "tags": [
     "outputPrepend"
    ]
   },
   "execution_count": 10,
   "outputs": [
    {
     "output_type": "stream",
     "name": "stdout",
     "text": [
      "ning: 570ms\n",
      "616:\tlearn: 0.8895050\ttotal: 916ms\tremaining: 569ms\n",
      "617:\tlearn: 0.8884334\ttotal: 917ms\tremaining: 567ms\n",
      "618:\tlearn: 0.8873286\ttotal: 918ms\tremaining: 565ms\n",
      "619:\tlearn: 0.8870899\ttotal: 920ms\tremaining: 564ms\n",
      "620:\tlearn: 0.8859570\ttotal: 921ms\tremaining: 562ms\n",
      "621:\tlearn: 0.8847718\ttotal: 922ms\tremaining: 560ms\n",
      "622:\tlearn: 0.8840313\ttotal: 923ms\tremaining: 559ms\n",
      "623:\tlearn: 0.8835356\ttotal: 924ms\tremaining: 557ms\n",
      "624:\tlearn: 0.8829541\ttotal: 925ms\tremaining: 555ms\n",
      "625:\tlearn: 0.8819185\ttotal: 927ms\tremaining: 554ms\n",
      "626:\tlearn: 0.8813329\ttotal: 928ms\tremaining: 552ms\n",
      "627:\tlearn: 0.8804734\ttotal: 929ms\tremaining: 551ms\n",
      "628:\tlearn: 0.8794041\ttotal: 931ms\tremaining: 549ms\n",
      "629:\tlearn: 0.8787543\ttotal: 932ms\tremaining: 547ms\n",
      "630:\tlearn: 0.8774188\ttotal: 933ms\tremaining: 546ms\n",
      "631:\tlearn: 0.8762291\ttotal: 935ms\tremaining: 544ms\n",
      "632:\tlearn: 0.8745759\ttotal: 936ms\tremaining: 543ms\n",
      "633:\tlearn: 0.8735642\ttotal: 937ms\tremaining: 541ms\n",
      "634:\tlearn: 0.8730136\ttotal: 938ms\tremaining: 539ms\n",
      "635:\tlearn: 0.8706550\ttotal: 939ms\tremaining: 538ms\n",
      "636:\tlearn: 0.8702025\ttotal: 941ms\tremaining: 536ms\n",
      "637:\tlearn: 0.8689645\ttotal: 943ms\tremaining: 535ms\n",
      "638:\tlearn: 0.8682608\ttotal: 944ms\tremaining: 533ms\n",
      "639:\tlearn: 0.8670718\ttotal: 945ms\tremaining: 532ms\n",
      "640:\tlearn: 0.8662279\ttotal: 947ms\tremaining: 530ms\n",
      "641:\tlearn: 0.8656610\ttotal: 949ms\tremaining: 529ms\n",
      "642:\tlearn: 0.8648153\ttotal: 951ms\tremaining: 528ms\n",
      "643:\tlearn: 0.8644008\ttotal: 953ms\tremaining: 527ms\n",
      "644:\tlearn: 0.8636612\ttotal: 955ms\tremaining: 526ms\n",
      "645:\tlearn: 0.8621902\ttotal: 956ms\tremaining: 524ms\n",
      "646:\tlearn: 0.8616865\ttotal: 958ms\tremaining: 523ms\n",
      "647:\tlearn: 0.8608834\ttotal: 959ms\tremaining: 521ms\n",
      "648:\tlearn: 0.8599379\ttotal: 961ms\tremaining: 520ms\n",
      "649:\tlearn: 0.8592598\ttotal: 963ms\tremaining: 518ms\n",
      "650:\tlearn: 0.8584935\ttotal: 964ms\tremaining: 517ms\n",
      "651:\tlearn: 0.8580284\ttotal: 966ms\tremaining: 516ms\n",
      "652:\tlearn: 0.8571143\ttotal: 968ms\tremaining: 514ms\n",
      "653:\tlearn: 0.8562296\ttotal: 970ms\tremaining: 513ms\n",
      "654:\tlearn: 0.8557595\ttotal: 971ms\tremaining: 512ms\n",
      "655:\tlearn: 0.8542748\ttotal: 973ms\tremaining: 510ms\n",
      "656:\tlearn: 0.8530716\ttotal: 974ms\tremaining: 509ms\n",
      "657:\tlearn: 0.8526793\ttotal: 976ms\tremaining: 507ms\n",
      "658:\tlearn: 0.8518432\ttotal: 978ms\tremaining: 506ms\n",
      "659:\tlearn: 0.8514484\ttotal: 980ms\tremaining: 505ms\n",
      "660:\tlearn: 0.8507993\ttotal: 982ms\tremaining: 504ms\n",
      "661:\tlearn: 0.8492976\ttotal: 983ms\tremaining: 502ms\n",
      "662:\tlearn: 0.8487827\ttotal: 985ms\tremaining: 501ms\n",
      "663:\tlearn: 0.8480964\ttotal: 986ms\tremaining: 499ms\n",
      "664:\tlearn: 0.8475971\ttotal: 988ms\tremaining: 498ms\n",
      "665:\tlearn: 0.8465759\ttotal: 989ms\tremaining: 496ms\n",
      "666:\tlearn: 0.8451608\ttotal: 990ms\tremaining: 494ms\n",
      "667:\tlearn: 0.8445280\ttotal: 993ms\tremaining: 493ms\n",
      "668:\tlearn: 0.8435243\ttotal: 995ms\tremaining: 492ms\n",
      "669:\tlearn: 0.8424364\ttotal: 996ms\tremaining: 491ms\n",
      "670:\tlearn: 0.8411162\ttotal: 997ms\tremaining: 489ms\n",
      "671:\tlearn: 0.8403954\ttotal: 999ms\tremaining: 487ms\n",
      "672:\tlearn: 0.8395576\ttotal: 1s\tremaining: 486ms\n",
      "673:\tlearn: 0.8388707\ttotal: 1s\tremaining: 485ms\n",
      "674:\tlearn: 0.8383782\ttotal: 1s\tremaining: 483ms\n",
      "675:\tlearn: 0.8378775\ttotal: 1s\tremaining: 482ms\n",
      "676:\tlearn: 0.8375056\ttotal: 1.01s\tremaining: 480ms\n",
      "677:\tlearn: 0.8362948\ttotal: 1.01s\tremaining: 479ms\n",
      "678:\tlearn: 0.8353468\ttotal: 1.01s\tremaining: 477ms\n",
      "679:\tlearn: 0.8345361\ttotal: 1.01s\tremaining: 476ms\n",
      "680:\tlearn: 0.8340942\ttotal: 1.01s\tremaining: 474ms\n",
      "681:\tlearn: 0.8330521\ttotal: 1.01s\tremaining: 473ms\n",
      "682:\tlearn: 0.8319295\ttotal: 1.01s\tremaining: 471ms\n",
      "683:\tlearn: 0.8307566\ttotal: 1.02s\tremaining: 470ms\n",
      "684:\tlearn: 0.8299409\ttotal: 1.02s\tremaining: 469ms\n",
      "685:\tlearn: 0.8295407\ttotal: 1.02s\tremaining: 467ms\n",
      "686:\tlearn: 0.8291930\ttotal: 1.02s\tremaining: 466ms\n",
      "687:\tlearn: 0.8287082\ttotal: 1.02s\tremaining: 464ms\n",
      "688:\tlearn: 0.8268156\ttotal: 1.02s\tremaining: 463ms\n",
      "689:\tlearn: 0.8262999\ttotal: 1.03s\tremaining: 461ms\n",
      "690:\tlearn: 0.8259562\ttotal: 1.03s\tremaining: 459ms\n",
      "691:\tlearn: 0.8255301\ttotal: 1.03s\tremaining: 458ms\n",
      "692:\tlearn: 0.8251667\ttotal: 1.03s\tremaining: 456ms\n",
      "693:\tlearn: 0.8246778\ttotal: 1.03s\tremaining: 455ms\n",
      "694:\tlearn: 0.8243076\ttotal: 1.03s\tremaining: 454ms\n",
      "695:\tlearn: 0.8232301\ttotal: 1.03s\tremaining: 452ms\n",
      "696:\tlearn: 0.8224040\ttotal: 1.04s\tremaining: 451ms\n",
      "697:\tlearn: 0.8217002\ttotal: 1.04s\tremaining: 449ms\n",
      "698:\tlearn: 0.8206219\ttotal: 1.04s\tremaining: 448ms\n",
      "699:\tlearn: 0.8196022\ttotal: 1.04s\tremaining: 447ms\n",
      "700:\tlearn: 0.8190019\ttotal: 1.04s\tremaining: 445ms\n",
      "701:\tlearn: 0.8178422\ttotal: 1.04s\tremaining: 444ms\n",
      "702:\tlearn: 0.8161350\ttotal: 1.05s\tremaining: 442ms\n",
      "703:\tlearn: 0.8152679\ttotal: 1.05s\tremaining: 441ms\n",
      "704:\tlearn: 0.8145387\ttotal: 1.05s\tremaining: 439ms\n",
      "705:\tlearn: 0.8136556\ttotal: 1.05s\tremaining: 438ms\n",
      "706:\tlearn: 0.8128517\ttotal: 1.05s\tremaining: 436ms\n",
      "707:\tlearn: 0.8116305\ttotal: 1.05s\tremaining: 435ms\n",
      "708:\tlearn: 0.8112529\ttotal: 1.05s\tremaining: 433ms\n",
      "709:\tlearn: 0.8105258\ttotal: 1.06s\tremaining: 432ms\n",
      "710:\tlearn: 0.8097571\ttotal: 1.06s\tremaining: 430ms\n",
      "711:\tlearn: 0.8091978\ttotal: 1.06s\tremaining: 429ms\n",
      "712:\tlearn: 0.8088628\ttotal: 1.06s\tremaining: 427ms\n",
      "713:\tlearn: 0.8079887\ttotal: 1.06s\tremaining: 426ms\n",
      "714:\tlearn: 0.8074337\ttotal: 1.06s\tremaining: 424ms\n",
      "715:\tlearn: 0.8064618\ttotal: 1.06s\tremaining: 422ms\n",
      "716:\tlearn: 0.8050545\ttotal: 1.07s\tremaining: 421ms\n",
      "717:\tlearn: 0.8047339\ttotal: 1.07s\tremaining: 419ms\n",
      "718:\tlearn: 0.8040926\ttotal: 1.07s\tremaining: 418ms\n",
      "719:\tlearn: 0.8035146\ttotal: 1.07s\tremaining: 416ms\n",
      "720:\tlearn: 0.8031956\ttotal: 1.07s\tremaining: 415ms\n",
      "721:\tlearn: 0.8029506\ttotal: 1.07s\tremaining: 413ms\n",
      "722:\tlearn: 0.8018572\ttotal: 1.07s\tremaining: 412ms\n",
      "723:\tlearn: 0.8014531\ttotal: 1.07s\tremaining: 410ms\n",
      "724:\tlearn: 0.8008467\ttotal: 1.08s\tremaining: 409ms\n",
      "725:\tlearn: 0.7998280\ttotal: 1.08s\tremaining: 407ms\n",
      "726:\tlearn: 0.7986061\ttotal: 1.08s\tremaining: 406ms\n",
      "727:\tlearn: 0.7983852\ttotal: 1.08s\tremaining: 404ms\n",
      "728:\tlearn: 0.7980939\ttotal: 1.08s\tremaining: 403ms\n",
      "729:\tlearn: 0.7977419\ttotal: 1.1s\tremaining: 406ms\n",
      "730:\tlearn: 0.7968753\ttotal: 1.1s\tremaining: 404ms\n",
      "731:\tlearn: 0.7958431\ttotal: 1.1s\tremaining: 404ms\n",
      "732:\tlearn: 0.7955338\ttotal: 1.1s\tremaining: 403ms\n",
      "733:\tlearn: 0.7948386\ttotal: 1.11s\tremaining: 401ms\n",
      "734:\tlearn: 0.7938966\ttotal: 1.11s\tremaining: 400ms\n",
      "735:\tlearn: 0.7933236\ttotal: 1.11s\tremaining: 398ms\n",
      "736:\tlearn: 0.7920534\ttotal: 1.11s\tremaining: 397ms\n",
      "737:\tlearn: 0.7916677\ttotal: 1.11s\tremaining: 395ms\n",
      "738:\tlearn: 0.7914340\ttotal: 1.11s\tremaining: 394ms\n",
      "739:\tlearn: 0.7911231\ttotal: 1.12s\tremaining: 392ms\n",
      "740:\tlearn: 0.7907353\ttotal: 1.12s\tremaining: 391ms\n",
      "741:\tlearn: 0.7902628\ttotal: 1.12s\tremaining: 389ms\n",
      "742:\tlearn: 0.7898661\ttotal: 1.12s\tremaining: 388ms\n",
      "743:\tlearn: 0.7888087\ttotal: 1.12s\tremaining: 386ms\n",
      "744:\tlearn: 0.7884173\ttotal: 1.12s\tremaining: 384ms\n",
      "745:\tlearn: 0.7876891\ttotal: 1.12s\tremaining: 383ms\n",
      "746:\tlearn: 0.7871721\ttotal: 1.13s\tremaining: 381ms\n",
      "747:\tlearn: 0.7864888\ttotal: 1.13s\tremaining: 380ms\n",
      "748:\tlearn: 0.7862757\ttotal: 1.13s\tremaining: 378ms\n",
      "749:\tlearn: 0.7857042\ttotal: 1.13s\tremaining: 377ms\n",
      "750:\tlearn: 0.7853945\ttotal: 1.13s\tremaining: 375ms\n",
      "751:\tlearn: 0.7850442\ttotal: 1.13s\tremaining: 374ms\n",
      "752:\tlearn: 0.7843171\ttotal: 1.13s\tremaining: 372ms\n",
      "753:\tlearn: 0.7839317\ttotal: 1.14s\tremaining: 371ms\n",
      "754:\tlearn: 0.7833863\ttotal: 1.14s\tremaining: 369ms\n",
      "755:\tlearn: 0.7830781\ttotal: 1.14s\tremaining: 368ms\n",
      "756:\tlearn: 0.7828206\ttotal: 1.14s\tremaining: 366ms\n",
      "757:\tlearn: 0.7825212\ttotal: 1.14s\tremaining: 364ms\n",
      "758:\tlearn: 0.7819593\ttotal: 1.14s\tremaining: 363ms\n",
      "759:\tlearn: 0.7816229\ttotal: 1.14s\tremaining: 361ms\n",
      "760:\tlearn: 0.7810503\ttotal: 1.15s\tremaining: 360ms\n",
      "761:\tlearn: 0.7803398\ttotal: 1.15s\tremaining: 358ms\n",
      "762:\tlearn: 0.7794082\ttotal: 1.15s\tremaining: 357ms\n",
      "763:\tlearn: 0.7784004\ttotal: 1.15s\tremaining: 355ms\n",
      "764:\tlearn: 0.7777569\ttotal: 1.15s\tremaining: 354ms\n",
      "765:\tlearn: 0.7774702\ttotal: 1.15s\tremaining: 352ms\n",
      "766:\tlearn: 0.7769276\ttotal: 1.15s\tremaining: 351ms\n",
      "767:\tlearn: 0.7762160\ttotal: 1.16s\tremaining: 349ms\n",
      "768:\tlearn: 0.7756594\ttotal: 1.16s\tremaining: 347ms\n",
      "769:\tlearn: 0.7753740\ttotal: 1.16s\tremaining: 346ms\n",
      "770:\tlearn: 0.7746952\ttotal: 1.16s\tremaining: 344ms\n",
      "771:\tlearn: 0.7744262\ttotal: 1.16s\tremaining: 343ms\n",
      "772:\tlearn: 0.7741258\ttotal: 1.16s\tremaining: 341ms\n",
      "773:\tlearn: 0.7737918\ttotal: 1.16s\tremaining: 340ms\n",
      "774:\tlearn: 0.7733082\ttotal: 1.17s\tremaining: 338ms\n",
      "775:\tlearn: 0.7723944\ttotal: 1.17s\tremaining: 337ms\n",
      "776:\tlearn: 0.7719025\ttotal: 1.17s\tremaining: 335ms\n",
      "777:\tlearn: 0.7710141\ttotal: 1.17s\tremaining: 334ms\n",
      "778:\tlearn: 0.7705882\ttotal: 1.17s\tremaining: 332ms\n",
      "779:\tlearn: 0.7696011\ttotal: 1.17s\tremaining: 331ms\n",
      "780:\tlearn: 0.7691107\ttotal: 1.17s\tremaining: 329ms\n",
      "781:\tlearn: 0.7683241\ttotal: 1.18s\tremaining: 328ms\n",
      "782:\tlearn: 0.7674088\ttotal: 1.18s\tremaining: 326ms\n",
      "783:\tlearn: 0.7671599\ttotal: 1.18s\tremaining: 325ms\n",
      "784:\tlearn: 0.7668337\ttotal: 1.18s\tremaining: 323ms\n",
      "785:\tlearn: 0.7662980\ttotal: 1.18s\tremaining: 322ms\n",
      "786:\tlearn: 0.7655936\ttotal: 1.18s\tremaining: 320ms\n",
      "787:\tlearn: 0.7653459\ttotal: 1.18s\tremaining: 319ms\n",
      "788:\tlearn: 0.7649303\ttotal: 1.19s\tremaining: 317ms\n",
      "789:\tlearn: 0.7641842\ttotal: 1.19s\tremaining: 316ms\n",
      "790:\tlearn: 0.7638916\ttotal: 1.19s\tremaining: 314ms\n",
      "791:\tlearn: 0.7633119\ttotal: 1.19s\tremaining: 313ms\n",
      "792:\tlearn: 0.7625261\ttotal: 1.19s\tremaining: 311ms\n",
      "793:\tlearn: 0.7616973\ttotal: 1.19s\tremaining: 310ms\n",
      "794:\tlearn: 0.7613890\ttotal: 1.19s\tremaining: 308ms\n",
      "795:\tlearn: 0.7608702\ttotal: 1.2s\tremaining: 306ms\n",
      "796:\tlearn: 0.7602024\ttotal: 1.2s\tremaining: 305ms\n",
      "797:\tlearn: 0.7599953\ttotal: 1.2s\tremaining: 303ms\n",
      "798:\tlearn: 0.7596135\ttotal: 1.2s\tremaining: 302ms\n",
      "799:\tlearn: 0.7594116\ttotal: 1.2s\tremaining: 300ms\n",
      "800:\tlearn: 0.7591348\ttotal: 1.2s\tremaining: 299ms\n",
      "801:\tlearn: 0.7586697\ttotal: 1.2s\tremaining: 297ms\n",
      "802:\tlearn: 0.7583059\ttotal: 1.21s\tremaining: 296ms\n",
      "803:\tlearn: 0.7577410\ttotal: 1.21s\tremaining: 295ms\n",
      "804:\tlearn: 0.7569405\ttotal: 1.21s\tremaining: 293ms\n",
      "805:\tlearn: 0.7564883\ttotal: 1.21s\tremaining: 292ms\n",
      "806:\tlearn: 0.7554991\ttotal: 1.21s\tremaining: 290ms\n",
      "807:\tlearn: 0.7550948\ttotal: 1.21s\tremaining: 289ms\n",
      "808:\tlearn: 0.7542817\ttotal: 1.22s\tremaining: 287ms\n",
      "809:\tlearn: 0.7535476\ttotal: 1.22s\tremaining: 286ms\n",
      "810:\tlearn: 0.7527115\ttotal: 1.22s\tremaining: 284ms\n",
      "811:\tlearn: 0.7522166\ttotal: 1.22s\tremaining: 283ms\n",
      "812:\tlearn: 0.7509677\ttotal: 1.22s\tremaining: 281ms\n",
      "813:\tlearn: 0.7502029\ttotal: 1.22s\tremaining: 280ms\n",
      "814:\tlearn: 0.7498102\ttotal: 1.22s\tremaining: 278ms\n",
      "815:\tlearn: 0.7490382\ttotal: 1.23s\tremaining: 276ms\n",
      "816:\tlearn: 0.7486863\ttotal: 1.23s\tremaining: 275ms\n",
      "817:\tlearn: 0.7480315\ttotal: 1.23s\tremaining: 274ms\n",
      "818:\tlearn: 0.7476259\ttotal: 1.23s\tremaining: 272ms\n",
      "819:\tlearn: 0.7468668\ttotal: 1.23s\tremaining: 270ms\n",
      "820:\tlearn: 0.7460775\ttotal: 1.23s\tremaining: 269ms\n",
      "821:\tlearn: 0.7458313\ttotal: 1.23s\tremaining: 267ms\n",
      "822:\tlearn: 0.7452495\ttotal: 1.24s\tremaining: 266ms\n",
      "823:\tlearn: 0.7448861\ttotal: 1.24s\tremaining: 264ms\n",
      "824:\tlearn: 0.7446064\ttotal: 1.24s\tremaining: 263ms\n",
      "825:\tlearn: 0.7441307\ttotal: 1.24s\tremaining: 261ms\n",
      "826:\tlearn: 0.7439313\ttotal: 1.24s\tremaining: 260ms\n",
      "827:\tlearn: 0.7423064\ttotal: 1.24s\tremaining: 258ms\n",
      "828:\tlearn: 0.7416148\ttotal: 1.25s\tremaining: 257ms\n",
      "829:\tlearn: 0.7413559\ttotal: 1.25s\tremaining: 255ms\n",
      "830:\tlearn: 0.7409356\ttotal: 1.25s\tremaining: 254ms\n",
      "831:\tlearn: 0.7406918\ttotal: 1.25s\tremaining: 252ms\n",
      "832:\tlearn: 0.7396040\ttotal: 1.25s\tremaining: 251ms\n",
      "833:\tlearn: 0.7394093\ttotal: 1.25s\tremaining: 249ms\n",
      "834:\tlearn: 0.7387012\ttotal: 1.25s\tremaining: 248ms\n",
      "835:\tlearn: 0.7384812\ttotal: 1.25s\tremaining: 246ms\n",
      "836:\tlearn: 0.7378471\ttotal: 1.26s\tremaining: 245ms\n",
      "837:\tlearn: 0.7376206\ttotal: 1.26s\tremaining: 243ms\n",
      "838:\tlearn: 0.7362293\ttotal: 1.26s\tremaining: 242ms\n",
      "839:\tlearn: 0.7354624\ttotal: 1.26s\tremaining: 240ms\n",
      "840:\tlearn: 0.7347201\ttotal: 1.26s\tremaining: 239ms\n",
      "841:\tlearn: 0.7345128\ttotal: 1.26s\tremaining: 237ms\n",
      "842:\tlearn: 0.7337442\ttotal: 1.26s\tremaining: 236ms\n",
      "843:\tlearn: 0.7329778\ttotal: 1.27s\tremaining: 234ms\n",
      "844:\tlearn: 0.7326175\ttotal: 1.27s\tremaining: 233ms\n",
      "845:\tlearn: 0.7319228\ttotal: 1.27s\tremaining: 231ms\n",
      "846:\tlearn: 0.7314023\ttotal: 1.27s\tremaining: 230ms\n",
      "847:\tlearn: 0.7308270\ttotal: 1.27s\tremaining: 228ms\n",
      "848:\tlearn: 0.7300809\ttotal: 1.27s\tremaining: 226ms\n",
      "849:\tlearn: 0.7295947\ttotal: 1.27s\tremaining: 225ms\n",
      "850:\tlearn: 0.7288067\ttotal: 1.28s\tremaining: 223ms\n",
      "851:\tlearn: 0.7282996\ttotal: 1.28s\tremaining: 222ms\n",
      "852:\tlearn: 0.7277800\ttotal: 1.28s\tremaining: 220ms\n",
      "853:\tlearn: 0.7264468\ttotal: 1.28s\tremaining: 219ms\n",
      "854:\tlearn: 0.7259689\ttotal: 1.28s\tremaining: 217ms\n",
      "855:\tlearn: 0.7249546\ttotal: 1.28s\tremaining: 216ms\n",
      "856:\tlearn: 0.7242916\ttotal: 1.28s\tremaining: 214ms\n",
      "857:\tlearn: 0.7232182\ttotal: 1.28s\tremaining: 213ms\n",
      "858:\tlearn: 0.7229282\ttotal: 1.29s\tremaining: 211ms\n",
      "859:\tlearn: 0.7227206\ttotal: 1.29s\tremaining: 210ms\n",
      "860:\tlearn: 0.7225077\ttotal: 1.29s\tremaining: 208ms\n",
      "861:\tlearn: 0.7216869\ttotal: 1.29s\tremaining: 207ms\n",
      "862:\tlearn: 0.7208903\ttotal: 1.29s\tremaining: 205ms\n",
      "863:\tlearn: 0.7202950\ttotal: 1.29s\tremaining: 204ms\n",
      "864:\tlearn: 0.7196429\ttotal: 1.29s\tremaining: 202ms\n",
      "865:\tlearn: 0.7190777\ttotal: 1.3s\tremaining: 201ms\n",
      "866:\tlearn: 0.7185633\ttotal: 1.3s\tremaining: 199ms\n",
      "867:\tlearn: 0.7181509\ttotal: 1.3s\tremaining: 198ms\n",
      "868:\tlearn: 0.7177230\ttotal: 1.3s\tremaining: 196ms\n",
      "869:\tlearn: 0.7166361\ttotal: 1.3s\tremaining: 194ms\n",
      "870:\tlearn: 0.7164550\ttotal: 1.3s\tremaining: 193ms\n",
      "871:\tlearn: 0.7159791\ttotal: 1.3s\tremaining: 191ms\n",
      "872:\tlearn: 0.7156412\ttotal: 1.3s\tremaining: 190ms\n",
      "873:\tlearn: 0.7147617\ttotal: 1.31s\tremaining: 188ms\n",
      "874:\tlearn: 0.7140745\ttotal: 1.31s\tremaining: 187ms\n",
      "875:\tlearn: 0.7138817\ttotal: 1.31s\tremaining: 185ms\n",
      "876:\tlearn: 0.7133902\ttotal: 1.31s\tremaining: 184ms\n",
      "877:\tlearn: 0.7127886\ttotal: 1.31s\tremaining: 182ms\n",
      "878:\tlearn: 0.7122731\ttotal: 1.31s\tremaining: 181ms\n",
      "879:\tlearn: 0.7118671\ttotal: 1.31s\tremaining: 179ms\n",
      "880:\tlearn: 0.7114413\ttotal: 1.31s\tremaining: 178ms\n",
      "881:\tlearn: 0.7104517\ttotal: 1.32s\tremaining: 176ms\n",
      "882:\tlearn: 0.7099349\ttotal: 1.32s\tremaining: 175ms\n",
      "883:\tlearn: 0.7096567\ttotal: 1.32s\tremaining: 173ms\n",
      "884:\tlearn: 0.7085393\ttotal: 1.32s\tremaining: 172ms\n",
      "885:\tlearn: 0.7083242\ttotal: 1.32s\tremaining: 170ms\n",
      "886:\tlearn: 0.7072200\ttotal: 1.32s\tremaining: 169ms\n",
      "887:\tlearn: 0.7061695\ttotal: 1.32s\tremaining: 167ms\n",
      "888:\tlearn: 0.7055823\ttotal: 1.33s\tremaining: 166ms\n",
      "889:\tlearn: 0.7052842\ttotal: 1.33s\tremaining: 164ms\n",
      "890:\tlearn: 0.7050375\ttotal: 1.33s\tremaining: 163ms\n",
      "891:\tlearn: 0.7045739\ttotal: 1.33s\tremaining: 161ms\n",
      "892:\tlearn: 0.7037142\ttotal: 1.33s\tremaining: 160ms\n",
      "893:\tlearn: 0.7033530\ttotal: 1.34s\tremaining: 158ms\n",
      "894:\tlearn: 0.7021836\ttotal: 1.34s\tremaining: 157ms\n",
      "895:\tlearn: 0.7014418\ttotal: 1.34s\tremaining: 155ms\n",
      "896:\tlearn: 0.7006486\ttotal: 1.34s\tremaining: 154ms\n",
      "897:\tlearn: 0.6998012\ttotal: 1.34s\tremaining: 152ms\n",
      "898:\tlearn: 0.6995506\ttotal: 1.34s\tremaining: 151ms\n",
      "899:\tlearn: 0.6989816\ttotal: 1.34s\tremaining: 149ms\n",
      "900:\tlearn: 0.6988293\ttotal: 1.34s\tremaining: 148ms\n",
      "901:\tlearn: 0.6985038\ttotal: 1.35s\tremaining: 146ms\n",
      "902:\tlearn: 0.6979604\ttotal: 1.35s\tremaining: 145ms\n",
      "903:\tlearn: 0.6973186\ttotal: 1.35s\tremaining: 143ms\n",
      "904:\tlearn: 0.6970497\ttotal: 1.35s\tremaining: 142ms\n",
      "905:\tlearn: 0.6967289\ttotal: 1.35s\tremaining: 140ms\n",
      "906:\tlearn: 0.6960983\ttotal: 1.35s\tremaining: 139ms\n",
      "907:\tlearn: 0.6956935\ttotal: 1.36s\tremaining: 137ms\n",
      "908:\tlearn: 0.6951311\ttotal: 1.36s\tremaining: 136ms\n",
      "909:\tlearn: 0.6942606\ttotal: 1.36s\tremaining: 134ms\n",
      "910:\tlearn: 0.6936229\ttotal: 1.36s\tremaining: 133ms\n",
      "911:\tlearn: 0.6932183\ttotal: 1.36s\tremaining: 131ms\n",
      "912:\tlearn: 0.6923274\ttotal: 1.36s\tremaining: 130ms\n",
      "913:\tlearn: 0.6919158\ttotal: 1.36s\tremaining: 128ms\n",
      "914:\tlearn: 0.6914456\ttotal: 1.36s\tremaining: 127ms\n",
      "915:\tlearn: 0.6908293\ttotal: 1.37s\tremaining: 125ms\n",
      "916:\tlearn: 0.6906888\ttotal: 1.37s\tremaining: 124ms\n",
      "917:\tlearn: 0.6903766\ttotal: 1.37s\tremaining: 122ms\n",
      "918:\tlearn: 0.6901581\ttotal: 1.37s\tremaining: 121ms\n",
      "919:\tlearn: 0.6896368\ttotal: 1.37s\tremaining: 119ms\n",
      "920:\tlearn: 0.6888540\ttotal: 1.37s\tremaining: 118ms\n",
      "921:\tlearn: 0.6885616\ttotal: 1.37s\tremaining: 116ms\n",
      "922:\tlearn: 0.6883727\ttotal: 1.38s\tremaining: 115ms\n",
      "923:\tlearn: 0.6875141\ttotal: 1.38s\tremaining: 113ms\n",
      "924:\tlearn: 0.6869394\ttotal: 1.38s\tremaining: 112ms\n",
      "925:\tlearn: 0.6867945\ttotal: 1.38s\tremaining: 110ms\n",
      "926:\tlearn: 0.6859157\ttotal: 1.38s\tremaining: 109ms\n",
      "927:\tlearn: 0.6852185\ttotal: 1.38s\tremaining: 107ms\n",
      "928:\tlearn: 0.6845460\ttotal: 1.38s\tremaining: 106ms\n",
      "929:\tlearn: 0.6838616\ttotal: 1.39s\tremaining: 104ms\n",
      "930:\tlearn: 0.6830898\ttotal: 1.39s\tremaining: 103ms\n",
      "931:\tlearn: 0.6824051\ttotal: 1.39s\tremaining: 101ms\n",
      "932:\tlearn: 0.6819769\ttotal: 1.39s\tremaining: 99.8ms\n",
      "933:\tlearn: 0.6813330\ttotal: 1.39s\tremaining: 98.3ms\n",
      "934:\tlearn: 0.6807878\ttotal: 1.39s\tremaining: 96.8ms\n",
      "935:\tlearn: 0.6803522\ttotal: 1.39s\tremaining: 95.3ms\n",
      "936:\tlearn: 0.6800925\ttotal: 1.4s\tremaining: 93.9ms\n",
      "937:\tlearn: 0.6794224\ttotal: 1.4s\tremaining: 92.4ms\n",
      "938:\tlearn: 0.6790937\ttotal: 1.4s\tremaining: 90.9ms\n",
      "939:\tlearn: 0.6785008\ttotal: 1.4s\tremaining: 89.4ms\n",
      "940:\tlearn: 0.6778642\ttotal: 1.4s\tremaining: 87.9ms\n",
      "941:\tlearn: 0.6772561\ttotal: 1.4s\tremaining: 86.4ms\n",
      "942:\tlearn: 0.6765090\ttotal: 1.41s\tremaining: 84.9ms\n",
      "943:\tlearn: 0.6761854\ttotal: 1.41s\tremaining: 83.4ms\n",
      "944:\tlearn: 0.6756222\ttotal: 1.41s\tremaining: 81.9ms\n",
      "945:\tlearn: 0.6747517\ttotal: 1.41s\tremaining: 80.5ms\n",
      "946:\tlearn: 0.6740749\ttotal: 1.41s\tremaining: 79ms\n",
      "947:\tlearn: 0.6733653\ttotal: 1.41s\tremaining: 77.5ms\n",
      "948:\tlearn: 0.6731486\ttotal: 1.41s\tremaining: 76ms\n",
      "949:\tlearn: 0.6728087\ttotal: 1.42s\tremaining: 74.5ms\n",
      "950:\tlearn: 0.6720313\ttotal: 1.42s\tremaining: 73ms\n",
      "951:\tlearn: 0.6714214\ttotal: 1.42s\tremaining: 71.5ms\n",
      "952:\tlearn: 0.6702638\ttotal: 1.42s\tremaining: 70ms\n",
      "953:\tlearn: 0.6696421\ttotal: 1.42s\tremaining: 68.5ms\n",
      "954:\tlearn: 0.6686186\ttotal: 1.42s\tremaining: 67.1ms\n",
      "955:\tlearn: 0.6683896\ttotal: 1.42s\tremaining: 65.6ms\n",
      "956:\tlearn: 0.6680404\ttotal: 1.43s\tremaining: 64.1ms\n",
      "957:\tlearn: 0.6673875\ttotal: 1.43s\tremaining: 62.6ms\n",
      "958:\tlearn: 0.6667890\ttotal: 1.43s\tremaining: 61.2ms\n",
      "959:\tlearn: 0.6661839\ttotal: 1.43s\tremaining: 59.7ms\n",
      "960:\tlearn: 0.6658112\ttotal: 1.43s\tremaining: 58.2ms\n",
      "961:\tlearn: 0.6654880\ttotal: 1.44s\tremaining: 56.7ms\n",
      "962:\tlearn: 0.6647895\ttotal: 1.44s\tremaining: 55.2ms\n",
      "963:\tlearn: 0.6645323\ttotal: 1.44s\tremaining: 53.7ms\n",
      "964:\tlearn: 0.6640506\ttotal: 1.44s\tremaining: 52.3ms\n",
      "965:\tlearn: 0.6630722\ttotal: 1.44s\tremaining: 50.8ms\n",
      "966:\tlearn: 0.6629483\ttotal: 1.44s\tremaining: 49.3ms\n",
      "967:\tlearn: 0.6624671\ttotal: 1.45s\tremaining: 47.8ms\n",
      "968:\tlearn: 0.6615701\ttotal: 1.45s\tremaining: 46.3ms\n",
      "969:\tlearn: 0.6609973\ttotal: 1.45s\tremaining: 44.8ms\n",
      "970:\tlearn: 0.6602391\ttotal: 1.45s\tremaining: 43.3ms\n",
      "971:\tlearn: 0.6598956\ttotal: 1.45s\tremaining: 41.8ms\n",
      "972:\tlearn: 0.6593423\ttotal: 1.45s\tremaining: 40.3ms\n",
      "973:\tlearn: 0.6585973\ttotal: 1.45s\tremaining: 38.8ms\n",
      "974:\tlearn: 0.6576121\ttotal: 1.46s\tremaining: 37.3ms\n",
      "975:\tlearn: 0.6574473\ttotal: 1.46s\tremaining: 35.8ms\n",
      "976:\tlearn: 0.6572202\ttotal: 1.46s\tremaining: 34.4ms\n",
      "977:\tlearn: 0.6569940\ttotal: 1.46s\tremaining: 32.9ms\n",
      "978:\tlearn: 0.6564184\ttotal: 1.46s\tremaining: 31.4ms\n",
      "979:\tlearn: 0.6556123\ttotal: 1.46s\tremaining: 29.9ms\n",
      "980:\tlearn: 0.6553884\ttotal: 1.46s\tremaining: 28.4ms\n",
      "981:\tlearn: 0.6548770\ttotal: 1.47s\tremaining: 26.9ms\n",
      "982:\tlearn: 0.6543367\ttotal: 1.47s\tremaining: 25.4ms\n",
      "983:\tlearn: 0.6537778\ttotal: 1.47s\tremaining: 23.9ms\n",
      "984:\tlearn: 0.6535942\ttotal: 1.47s\tremaining: 22.4ms\n",
      "985:\tlearn: 0.6533931\ttotal: 1.47s\tremaining: 20.9ms\n",
      "986:\tlearn: 0.6528048\ttotal: 1.47s\tremaining: 19.4ms\n",
      "987:\tlearn: 0.6525542\ttotal: 1.47s\tremaining: 17.9ms\n",
      "988:\tlearn: 0.6521249\ttotal: 1.48s\tremaining: 16.4ms\n",
      "989:\tlearn: 0.6513715\ttotal: 1.48s\tremaining: 14.9ms\n",
      "990:\tlearn: 0.6508238\ttotal: 1.48s\tremaining: 13.4ms\n",
      "991:\tlearn: 0.6502231\ttotal: 1.48s\tremaining: 11.9ms\n",
      "992:\tlearn: 0.6498736\ttotal: 1.48s\tremaining: 10.4ms\n",
      "993:\tlearn: 0.6494495\ttotal: 1.48s\tremaining: 8.96ms\n",
      "994:\tlearn: 0.6492276\ttotal: 1.48s\tremaining: 7.46ms\n",
      "995:\tlearn: 0.6480886\ttotal: 1.49s\tremaining: 5.97ms\n",
      "996:\tlearn: 0.6475869\ttotal: 1.49s\tremaining: 4.48ms\n",
      "997:\tlearn: 0.6470720\ttotal: 1.49s\tremaining: 2.98ms\n",
      "998:\tlearn: 0.6463861\ttotal: 1.49s\tremaining: 1.49ms\n",
      "999:\tlearn: 0.6460857\ttotal: 1.49s\tremaining: 0us\n"
     ]
    }
   ]
  },
  {
   "cell_type": "code",
   "execution_count": 11,
   "metadata": {},
   "outputs": [
    {
     "output_type": "execute_result",
     "data": {
      "text/plain": [
       "0.9964278055629735"
      ]
     },
     "metadata": {},
     "execution_count": 11
    }
   ],
   "source": [
    "# return R2\n",
    "LR.score(X, y)\n",
    "DT.score(X, y)\n",
    "RF.score(X, y)\n",
    "GB.score(X,y)\n",
    "HGB.score(X,y)\n",
    "XGB.score(X,y)\n",
    "LGBM.score(X,y)\n",
    "CB.score(X,y)"
   ]
  },
  {
   "cell_type": "code",
   "execution_count": 12,
   "metadata": {},
   "outputs": [
    {
     "output_type": "execute_result",
     "data": {
      "text/plain": [
       "19.627296658602503"
      ]
     },
     "metadata": {},
     "execution_count": 12
    }
   ],
   "source": [
    "y_pred = LR.predict(X_test)\n",
    "mean_squared_error(y_test, y_pred)"
   ]
  },
  {
   "cell_type": "code",
   "execution_count": 13,
   "metadata": {},
   "outputs": [
    {
     "output_type": "execute_result",
     "data": {
      "text/plain": [
       "5.223798753894081"
      ]
     },
     "metadata": {},
     "execution_count": 13
    }
   ],
   "source": [
    "y_pred = DT.predict(X_test)\n",
    "mean_squared_error(y_test, y_pred)"
   ]
  },
  {
   "cell_type": "code",
   "execution_count": 14,
   "metadata": {},
   "outputs": [
    {
     "output_type": "execute_result",
     "data": {
      "text/plain": [
       "2.8317493208722744"
      ]
     },
     "metadata": {},
     "execution_count": 14
    }
   ],
   "source": [
    "y_pred = RF.predict(X_test)\n",
    "mean_squared_error(y_test, y_pred)"
   ]
  },
  {
   "cell_type": "code",
   "execution_count": 15,
   "metadata": {},
   "outputs": [
    {
     "output_type": "execute_result",
     "data": {
      "text/plain": [
       "4.255753058143"
      ]
     },
     "metadata": {},
     "execution_count": 15
    }
   ],
   "source": [
    "y_pred = GB.predict(X_test)\n",
    "mean_squared_error(y_test, y_pred)"
   ]
  },
  {
   "cell_type": "code",
   "execution_count": 16,
   "metadata": {},
   "outputs": [
    {
     "output_type": "execute_result",
     "data": {
      "text/plain": [
       "3.3041965458656235"
      ]
     },
     "metadata": {},
     "execution_count": 16
    }
   ],
   "source": [
    "y_pred = HGB.predict(X_test)\n",
    "mean_squared_error(y_test, y_pred)"
   ]
  },
  {
   "cell_type": "code",
   "execution_count": 17,
   "metadata": {},
   "outputs": [
    {
     "output_type": "execute_result",
     "data": {
      "text/plain": [
       "3.5388052694426446"
      ]
     },
     "metadata": {},
     "execution_count": 17
    }
   ],
   "source": [
    "y_pred = XGB.predict(X_test)\n",
    "mean_squared_error(y_test, y_pred)"
   ]
  },
  {
   "cell_type": "code",
   "execution_count": 18,
   "metadata": {},
   "outputs": [
    {
     "output_type": "execute_result",
     "data": {
      "text/plain": [
       "3.3528027925203165"
      ]
     },
     "metadata": {},
     "execution_count": 18
    }
   ],
   "source": [
    "y_pred = LGBM.predict(X_test)\n",
    "mean_squared_error(y_test, y_pred)"
   ]
  },
  {
   "cell_type": "code",
   "execution_count": 19,
   "metadata": {},
   "outputs": [
    {
     "output_type": "execute_result",
     "data": {
      "text/plain": [
       "2.3778247131616936"
      ]
     },
     "metadata": {},
     "execution_count": 19
    }
   ],
   "source": [
    "y_pred = CB.predict(X_test)\n",
    "mean_squared_error(y_test, y_pred)"
   ]
  },
  {
   "cell_type": "code",
   "execution_count": 20,
   "metadata": {},
   "outputs": [
    {
     "output_type": "execute_result",
     "data": {
      "text/plain": [
       "         0          1          2          3          4         5          6    \\\n",
       "0  76.360000  81.360000  42.000000  49.240000  83.010000  80.60000  68.500000   \n",
       "1  76.710763  81.485448  42.831874  45.434723  82.040642  80.74999  69.266482   \n",
       "\n",
       "         7          8         9    ...        311        312        313  \\\n",
       "0  68.910000  67.190000  33.74000  ...  36.490000  82.190000  82.420000   \n",
       "1  69.271216  67.852414  34.26499  ...  39.324425  82.147277  82.150494   \n",
       "\n",
       "         314        315        316        317        318        319        320  \n",
       "0  83.830000  80.860000  82.900000  55.050000  75.740000  86.840000  75.370000  \n",
       "1  86.736474  80.389033  83.069709  53.814115  76.405996  86.288367  75.812257  \n",
       "\n",
       "[2 rows x 321 columns]"
      ],
      "text/html": "<div>\n<style scoped>\n    .dataframe tbody tr th:only-of-type {\n        vertical-align: middle;\n    }\n\n    .dataframe tbody tr th {\n        vertical-align: top;\n    }\n\n    .dataframe thead th {\n        text-align: right;\n    }\n</style>\n<table border=\"1\" class=\"dataframe\">\n  <thead>\n    <tr style=\"text-align: right;\">\n      <th></th>\n      <th>0</th>\n      <th>1</th>\n      <th>2</th>\n      <th>3</th>\n      <th>4</th>\n      <th>5</th>\n      <th>6</th>\n      <th>7</th>\n      <th>8</th>\n      <th>9</th>\n      <th>...</th>\n      <th>311</th>\n      <th>312</th>\n      <th>313</th>\n      <th>314</th>\n      <th>315</th>\n      <th>316</th>\n      <th>317</th>\n      <th>318</th>\n      <th>319</th>\n      <th>320</th>\n    </tr>\n  </thead>\n  <tbody>\n    <tr>\n      <th>0</th>\n      <td>76.360000</td>\n      <td>81.360000</td>\n      <td>42.000000</td>\n      <td>49.240000</td>\n      <td>83.010000</td>\n      <td>80.60000</td>\n      <td>68.500000</td>\n      <td>68.910000</td>\n      <td>67.190000</td>\n      <td>33.74000</td>\n      <td>...</td>\n      <td>36.490000</td>\n      <td>82.190000</td>\n      <td>82.420000</td>\n      <td>83.830000</td>\n      <td>80.860000</td>\n      <td>82.900000</td>\n      <td>55.050000</td>\n      <td>75.740000</td>\n      <td>86.840000</td>\n      <td>75.370000</td>\n    </tr>\n    <tr>\n      <th>1</th>\n      <td>76.710763</td>\n      <td>81.485448</td>\n      <td>42.831874</td>\n      <td>45.434723</td>\n      <td>82.040642</td>\n      <td>80.74999</td>\n      <td>69.266482</td>\n      <td>69.271216</td>\n      <td>67.852414</td>\n      <td>34.26499</td>\n      <td>...</td>\n      <td>39.324425</td>\n      <td>82.147277</td>\n      <td>82.150494</td>\n      <td>86.736474</td>\n      <td>80.389033</td>\n      <td>83.069709</td>\n      <td>53.814115</td>\n      <td>76.405996</td>\n      <td>86.288367</td>\n      <td>75.812257</td>\n    </tr>\n  </tbody>\n</table>\n<p>2 rows × 321 columns</p>\n</div>"
     },
     "metadata": {},
     "execution_count": 20
    }
   ],
   "source": [
    "import numpy as np\n",
    "pd.DataFrame(np.array([y_test, y_pred]))"
   ]
  },
  {
   "cell_type": "code",
   "execution_count": null,
   "metadata": {},
   "outputs": [],
   "source": []
  }
 ]
}